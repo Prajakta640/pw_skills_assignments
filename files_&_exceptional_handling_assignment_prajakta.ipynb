{
  "nbformat": 4,
  "nbformat_minor": 0,
  "metadata": {
    "colab": {
      "provenance": []
    },
    "kernelspec": {
      "name": "python3",
      "display_name": "Python 3"
    },
    "language_info": {
      "name": "python"
    }
  },
  "cells": [
    {
      "cell_type": "code",
      "execution_count": null,
      "metadata": {
        "colab": {
          "base_uri": "https://localhost:8080/"
        },
        "id": "EM5qX4m1N6I7",
        "outputId": "f1e8ed6c-9c2a-41b8-dbdd-7eebfe0ae41b"
      },
      "outputs": [
        {
          "output_type": "stream",
          "name": "stdout",
          "text": [
            "String written to file successfully.\n"
          ]
        }
      ],
      "source": [
        "#Question1- How can you open a file for writing in Python and write a string to it?\n",
        "# Open a file for writing (creates the file if it doesn't exist)\n",
        "with open(\"example.txt\", \"w\") as file:\n",
        "    file.write(\"Hello, world!\")\n",
        "\n",
        "print(\"String written to file successfully.\")\n",
        "with open(\"example.txt\", \"a\") as file:\n",
        "    file.write(\"\\nAppended text.\")"
      ]
    },
    {
      "cell_type": "code",
      "source": [
        "#Question2- Write a Python program to read the contents of a file and print each line.\n",
        "# Open the file for reading\n",
        "with open(\"example.txt\", \"r\") as file:\n",
        "    # Read and print each line\n",
        "    for line in file:\n",
        "        print(line.strip())  # strip() removes any trailing newline characters\n",
        "with open(\"example.txt\", \"r\") as file:\n",
        "    content = file.read()\n",
        "    print(content)"
      ],
      "metadata": {
        "colab": {
          "base_uri": "https://localhost:8080/"
        },
        "id": "TYtHCmH7PPI4",
        "outputId": "2bee5cbe-ba3d-45ce-d400-f8a168832d5f"
      },
      "execution_count": null,
      "outputs": [
        {
          "output_type": "stream",
          "name": "stdout",
          "text": [
            "Hello, world!\n",
            "Appended text.\n",
            "Hello, world!\n",
            "Appended text.\n"
          ]
        }
      ]
    },
    {
      "cell_type": "code",
      "source": [
        "#Question3- How would you handle a case where the file doesn't exist while trying to open it for reading?\n",
        "try:\n",
        "    with open(\"example.txt\", \"r\") as file:\n",
        "        for line in file:\n",
        "            print(line.strip())\n",
        "except FileNotFoundError:\n",
        "    print(\"Error: The file does not exist.\")"
      ],
      "metadata": {
        "colab": {
          "base_uri": "https://localhost:8080/"
        },
        "id": "03UK6J5yPQmv",
        "outputId": "0975e7b7-fd10-495f-95bd-90d6b42a65d1"
      },
      "execution_count": null,
      "outputs": [
        {
          "output_type": "stream",
          "name": "stdout",
          "text": [
            "Hello, world!\n",
            "Appended text.\n"
          ]
        }
      ]
    },
    {
      "cell_type": "code",
      "source": [
        "#Question4- Write a Python script that reads from one file and writes its content to another file.\n",
        "try:\n",
        "    with open(\"source.txt\", \"r\") as source, open(\"destination.txt\", \"w\") as destination:\n",
        "        for line in source:\n",
        "            destination.write(line)  # Write each line to the destination file\n",
        "\n",
        "    print(\"File copied successfully!\")\n",
        "except FileNotFoundError:\n",
        "    print(\"Error: source.txt not found.\")\n",
        "except Exception as e:\n",
        "    print(f\"An error occurred: {e}\")"
      ],
      "metadata": {
        "colab": {
          "base_uri": "https://localhost:8080/"
        },
        "id": "UDTwBHPjPUxn",
        "outputId": "5e02974f-b20a-491d-e09b-40c54e5a1e92"
      },
      "execution_count": null,
      "outputs": [
        {
          "output_type": "stream",
          "name": "stdout",
          "text": [
            "Error: source.txt not found.\n"
          ]
        }
      ]
    },
    {
      "cell_type": "code",
      "source": [
        "#Question5- How would you catch and handle division by zero error in Python?\n",
        "try:\n",
        "    numerator = int(input(\"Enter numerator: \"))\n",
        "    denominator = int(input(\"Enter denominator: \"))\n",
        "    result = numerator / denominator\n",
        "    print(\"Result:\", result)\n",
        "except ZeroDivisionError:\n",
        "    print(\"Error: Division by zero is not allowed.\")\n",
        "except ValueError:\n",
        "    print(\"Error: Please enter valid numbers.\")"
      ],
      "metadata": {
        "colab": {
          "base_uri": "https://localhost:8080/"
        },
        "id": "0Cs5DgYmPZaH",
        "outputId": "239d53a3-f043-49a5-a869-845319b50024"
      },
      "execution_count": null,
      "outputs": [
        {
          "output_type": "stream",
          "name": "stdout",
          "text": [
            "Enter numerator: 2\n",
            "Enter denominator: 6\n",
            "Result: 0.3333333333333333\n"
          ]
        }
      ]
    },
    {
      "cell_type": "code",
      "source": [
        "#Question6- Write a Python program that logs an error message to a log file when a division by zero exception occurs.\n",
        "import logging\n",
        "\n",
        "logging.basicConfig(filename='error_log.txt', level=logging.ERROR)\n",
        "\n",
        "try:\n",
        "    result = 10 / 0\n",
        "except ZeroDivisionError:\n",
        "    logging.error('Division by zero error occurred')"
      ],
      "metadata": {
        "colab": {
          "base_uri": "https://localhost:8080/"
        },
        "id": "8Z1F9p-xPmyO",
        "outputId": "2bee7d31-2567-4f40-b76c-23e4471fdaca"
      },
      "execution_count": null,
      "outputs": [
        {
          "output_type": "stream",
          "name": "stderr",
          "text": [
            "ERROR:root:Division by zero error occurred\n"
          ]
        }
      ]
    },
    {
      "cell_type": "code",
      "source": [
        "#Question7-How do you log information at different levels (INFO, ERROR, WARNING) in Python using the logging module?\n",
        "import logging\n",
        "\n",
        "# Configure logging\n",
        "logging.basicConfig(\n",
        "    filename=\"app.log\",  # Log file name\n",
        "    level=logging.DEBUG,  # Set minimum logging level\n",
        "    format=\"%(asctime)s - %(levelname)s - %(message)s\"\n",
        ")\n",
        "\n",
        "# Log messages at different levels\n",
        "logging.debug(\"This is a DEBUG message.\")\n",
        "logging.info(\"This is an INFO message.\")\n",
        "logging.warning(\"This is a WARNING message.\")\n",
        "logging.error(\"This is an ERROR message.\")\n",
        "logging.critical(\"This is a CRITICAL message.\")\n",
        "\n",
        "print(\"Log messages have been written to app.log.\")"
      ],
      "metadata": {
        "colab": {
          "base_uri": "https://localhost:8080/"
        },
        "id": "SXdeRcN2PqVW",
        "outputId": "c58160f7-8d68-4206-e71c-b3382078ed0b"
      },
      "execution_count": null,
      "outputs": [
        {
          "output_type": "stream",
          "name": "stderr",
          "text": [
            "WARNING:root:This is a WARNING message.\n",
            "ERROR:root:This is an ERROR message.\n",
            "CRITICAL:root:This is a CRITICAL message.\n"
          ]
        },
        {
          "output_type": "stream",
          "name": "stdout",
          "text": [
            "Log messages have been written to app.log.\n"
          ]
        }
      ]
    },
    {
      "cell_type": "code",
      "source": [
        "#Question8- Write a program to handle a file opening error using exception handling.\n",
        "try:\n",
        "    with open(\"nonexistent_file.txt\", \"r\") as file:\n",
        "        content = file.read()\n",
        "except FileNotFoundError:\n",
        "    print(\"Error: The file does not exist.\")"
      ],
      "metadata": {
        "colab": {
          "base_uri": "https://localhost:8080/"
        },
        "id": "VliyvNDxPrxH",
        "outputId": "1ef51cd9-8c42-42c2-d0fa-10e5de13b582"
      },
      "execution_count": null,
      "outputs": [
        {
          "output_type": "stream",
          "name": "stdout",
          "text": [
            "Error: The file does not exist.\n"
          ]
        }
      ]
    },
    {
      "cell_type": "code",
      "source": [
        "#Question9- How can you read a file line by line and store its content in a list in Python?\n",
        "try:\n",
        "    with open(\"example.txt\", \"r\") as file:\n",
        "        lines = file.readlines()\n",
        "        for line in lines:\n",
        "            print(line.strip())\n",
        "except FileNotFoundError:\n",
        "    print(\"Error: The file does not exist.\")"
      ],
      "metadata": {
        "colab": {
          "base_uri": "https://localhost:8080/"
        },
        "id": "gambP8rvPu_2",
        "outputId": "93cf52e8-e9f3-41b0-e08e-856752497325"
      },
      "execution_count": null,
      "outputs": [
        {
          "output_type": "stream",
          "name": "stdout",
          "text": [
            "Hello, world!\n",
            "Appended text.\n"
          ]
        }
      ]
    },
    {
      "cell_type": "code",
      "source": [
        "#Question10- How can you append data to an existing file in Python?\n",
        "# Open the file in append mode\n",
        "with open(\"example.txt\", \"a\") as file:\n",
        "    file.write(\"\\nThis is a new line appended to the file.\")\n",
        "\n",
        "print(\"Data appended successfully!\")"
      ],
      "metadata": {
        "colab": {
          "base_uri": "https://localhost:8080/"
        },
        "id": "k6Pq_DB_PxvO",
        "outputId": "8428932a-1695-4aa9-bd4c-4437d9f79e6a"
      },
      "execution_count": null,
      "outputs": [
        {
          "output_type": "stream",
          "name": "stdout",
          "text": [
            "Data appended successfully!\n"
          ]
        }
      ]
    },
    {
      "cell_type": "code",
      "source": [
        "#Question11- Write a Python program that uses a try-except block to handle an error when attempting to access a dictionary key that doesn't exist.\n",
        "# Sample dictionary\n",
        "student_scores = {\n",
        "    \"Asifa\": 85,\n",
        "    \"Praj\": 90,\n",
        "    \"Shivani\": 78\n",
        "}\n",
        "\n",
        "try:\n",
        "    name = input(\"Enter the student's name: \")\n",
        "    score = student_scores[name]  # Attempt to access the key\n",
        "    print(f\"{name}'s score is: {score}\")\n",
        "except KeyError:\n",
        "    print(f\"Error: '{name}' not found in the dictionary.\")"
      ],
      "metadata": {
        "colab": {
          "base_uri": "https://localhost:8080/"
        },
        "id": "lcKVjJc3P1Au",
        "outputId": "411c2bfe-97d7-4056-c77a-9f2a94856f63"
      },
      "execution_count": null,
      "outputs": [
        {
          "output_type": "stream",
          "name": "stdout",
          "text": [
            "Enter the student's name: Prajakta\n",
            "Error: 'Prajakta' not found in the dictionary.\n"
          ]
        }
      ]
    },
    {
      "cell_type": "code",
      "source": [
        "#Question12- Write a program that demonstrates using multiple except blocks to handle different types of exceptions.\n",
        "try:\n",
        "    # Input from the user\n",
        "    numerator = int(input(\"Enter numerator: \"))\n",
        "    denominator = int(input(\"Enter denominator: \"))\n",
        "\n",
        "    # Division operation that may cause errors\n",
        "    result = numerator / denominator\n",
        "    print(f\"The result of {numerator} / {denominator} is: {result}\")\n",
        "\n",
        "except ZeroDivisionError:\n",
        "    print(\"Error: Division by zero is not allowed.\")\n",
        "\n",
        "except ValueError:\n",
        "    print(\"Error: Please enter valid numbers.\")\n",
        "\n",
        "except Exception as e:\n",
        "    print(f\"An unexpected error occurred: {e}\")"
      ],
      "metadata": {
        "colab": {
          "base_uri": "https://localhost:8080/"
        },
        "id": "RDIXe-7uP-EO",
        "outputId": "56937e76-3755-494c-e5ed-88dbc16a7f5a"
      },
      "execution_count": null,
      "outputs": [
        {
          "output_type": "stream",
          "name": "stdout",
          "text": [
            "Enter numerator: 8\n",
            "Enter denominator: 0\n",
            "Error: Division by zero is not allowed.\n"
          ]
        }
      ]
    },
    {
      "cell_type": "code",
      "source": [
        "#Question13- How would you check if a file exists before attempting to read it in Python?\n",
        "import os\n",
        "\n",
        "filename = \"example.txt\"\n",
        "\n",
        "# Check if the file exists\n",
        "if os.path.exists(filename):\n",
        "    with open(filename, \"r\") as file:\n",
        "        content = file.read()\n",
        "        print(content)\n",
        "else:\n",
        "    print(f\"Error: The file '{filename}' does not exist.\")"
      ],
      "metadata": {
        "colab": {
          "base_uri": "https://localhost:8080/"
        },
        "id": "knWWbKkxQM8l",
        "outputId": "7a31e26e-1df7-4220-e0e5-a1216f5676aa"
      },
      "execution_count": null,
      "outputs": [
        {
          "output_type": "stream",
          "name": "stdout",
          "text": [
            "Hello, world!\n",
            "Appended text.\n",
            "This is a new line appended to the file.\n"
          ]
        }
      ]
    },
    {
      "cell_type": "code",
      "source": [
        "#Question14- Write a program that uses the logging module to log both informational and error messages.\n",
        "import os\n",
        "\n",
        "filename = \"example.txt\"\n",
        "\n",
        "# Check if the file exists\n",
        "if os.path.exists(filename):\n",
        "    with open(filename, \"r\") as file:\n",
        "        content = file.read()\n",
        "        print(content)\n",
        "else:\n",
        "    print(f\"Error: The file '{filename}' does not exist.\")"
      ],
      "metadata": {
        "colab": {
          "base_uri": "https://localhost:8080/"
        },
        "id": "rR_VC9YzQP5l",
        "outputId": "0ddbb746-eb42-49b5-c4ed-da2bab307a1c"
      },
      "execution_count": null,
      "outputs": [
        {
          "output_type": "stream",
          "name": "stdout",
          "text": [
            "Hello, world!\n",
            "Appended text.\n",
            "This is a new line appended to the file.\n"
          ]
        }
      ]
    },
    {
      "cell_type": "code",
      "source": [
        "#Question15- Write a Python program that prints the content of a file and handles the case when the file is empty\n",
        "def print_file_content(file_name):\n",
        "    try:\n",
        "        with open(file_name, 'r') as file:\n",
        "            content = file.read()\n",
        "            if content:  # Check if the file has content\n",
        "                print(content)\n",
        "            else:\n",
        "                print(\"The file is empty.\")\n",
        "    except FileNotFoundError:\n",
        "        print(f\"The file {file_name} does not exist.\")\n",
        "    except Exception as e:\n",
        "        print(f\"An error occurred: {e}\")\n",
        "\n",
        "# Example usage\n",
        "file_name = \"example.txt\"\n",
        "print_file_content(file_name)"
      ],
      "metadata": {
        "colab": {
          "base_uri": "https://localhost:8080/"
        },
        "id": "t1T1xtFGQSc9",
        "outputId": "aeba938d-dcab-4d2f-9766-14ee1417706c"
      },
      "execution_count": null,
      "outputs": [
        {
          "output_type": "stream",
          "name": "stdout",
          "text": [
            "Hello, world!\n",
            "Appended text.\n",
            "This is a new line appended to the file.\n"
          ]
        }
      ]
    },
    {
      "cell_type": "code",
      "source": [
        "#Q16 - Demonstrate how to use memory profiling to check the memory usage of a small program\n",
        "\n",
        "def my_function():\n",
        "    a = [i for i in range(10000)]  # Create a list with 10,000 integers\n",
        "    b = [i * 2 for i in a]         # Create a second list by doubling the values\n",
        "    c = sum(b)                     # Sum all elements in b\n",
        "    return c\n",
        "\n"
      ],
      "metadata": {
        "id": "2WUyLA84Q1L1"
      },
      "execution_count": 23,
      "outputs": []
    },
    {
      "cell_type": "code",
      "source": [
        "#Question17- Write a Python program to create and write a list of numbers to a file, one number per line.\n",
        "def write_numbers_to_file(file_name, numbers):\n",
        "    try:\n",
        "        with open(file_name, 'w') as file:\n",
        "            for number in numbers:\n",
        "                file.write(f\"{number}\\n\")  # Write each number on a new line\n",
        "        print(f\"Numbers successfully written to {file_name}\")\n",
        "    except Exception as e:\n",
        "        print(f\"An error occurred: {e}\")\n",
        "\n",
        "# Example usage\n",
        "numbers_list = [1, 2, 3, 4, 5, 6, 7, 8, 9, 10]\n",
        "file_name = \"numbers.txt\"\n",
        "write_numbers_to_file(file_name, numbers_list)\n",
        "print(numbers_list)"
      ],
      "metadata": {
        "colab": {
          "base_uri": "https://localhost:8080/"
        },
        "id": "FQNdp5GBRNxM",
        "outputId": "4424f53e-76e6-4e5b-a286-6331959ef923"
      },
      "execution_count": null,
      "outputs": [
        {
          "output_type": "stream",
          "name": "stdout",
          "text": [
            "Numbers successfully written to numbers.txt\n",
            "[1, 2, 3, 4, 5, 6, 7, 8, 9, 10]\n"
          ]
        }
      ]
    },
    {
      "cell_type": "code",
      "source": [
        "#Question18- How would you implement a basic logging setup that logs to a file with rotation after IMB?\n",
        "import logging\n",
        "from logging.handlers import RotatingFileHandler\n",
        "\n",
        "# Create a logger\n",
        "logger = logging.getLogger('my_logger')\n",
        "logger.setLevel(logging.INFO)  # Set the logging level\n",
        "\n",
        "# Create a rotating file handler that will log to 'app.log' and rotate after 1MB\n",
        "handler = RotatingFileHandler('app.log', maxBytes=1e6, backupCount=3)  # 1MB = 1e6 bytes\n",
        "handler.setLevel(logging.INFO)\n",
        "\n",
        "# Create a formatter and attach it to the handler\n",
        "formatter = logging.Formatter('%(asctime)s - %(levelname)s - %(message)s')\n",
        "handler.setFormatter(formatter)\n",
        "\n",
        "# Add the handler to the logger\n",
        "logger.addHandler(handler)\n",
        "\n",
        "# Example logging\n",
        "logger.info(\"This is an info message\")\n",
        "logger.error(\"This is an error message\")"
      ],
      "metadata": {
        "colab": {
          "base_uri": "https://localhost:8080/"
        },
        "id": "2iGjA6igRSqL",
        "outputId": "4b1eaba6-4e06-4f6d-e7dc-c7ecf4bc3d31"
      },
      "execution_count": null,
      "outputs": [
        {
          "output_type": "stream",
          "name": "stderr",
          "text": [
            "INFO:my_logger:This is an info message\n",
            "ERROR:my_logger:This is an error message\n"
          ]
        }
      ]
    },
    {
      "cell_type": "code",
      "source": [
        "#Question19- Write a program that handles both indexError and KeyError using a try-except block.\n",
        "def handle_errors():\n",
        "    my_list = [1, 2, 3]\n",
        "    my_dict = {'a': 1, 'b': 2, 'c': 3}\n",
        "\n",
        "    try:\n",
        "        # Attempting to access an invalid index in the list\n",
        "        print(my_list[5])\n",
        "\n",
        "        # Attempting to access a key that doesn't exist in the dictionary\n",
        "        print(my_dict['d'])\n",
        "\n",
        "    except IndexError as ie:\n",
        "        print(f\"IndexError occurred: {ie}\")\n",
        "\n",
        "    except KeyError as ke:\n",
        "        print(f\"KeyError occurred: {ke}\")\n",
        "\n",
        "# Call the function to test error handling\n",
        "handle_errors()"
      ],
      "metadata": {
        "colab": {
          "base_uri": "https://localhost:8080/"
        },
        "id": "TwKImxklRZlL",
        "outputId": "785bb8e0-2daf-4e9d-ec37-f7bc2b081e9e"
      },
      "execution_count": null,
      "outputs": [
        {
          "output_type": "stream",
          "name": "stdout",
          "text": [
            "IndexError occurred: list index out of range\n"
          ]
        }
      ]
    },
    {
      "cell_type": "code",
      "source": [
        "#Question20- How would you open a file and read its contents using a context manager in Python?\n",
        "# Using context manager to open and read a file\n",
        "file_path = '/content/numbers.txt'  # Replace with your file path\n",
        "\n",
        "with open(file_path, 'r') as file:\n",
        "    content = file.read()\n",
        "    print(content)"
      ],
      "metadata": {
        "colab": {
          "base_uri": "https://localhost:8080/"
        },
        "id": "ot5vpwUwRgDL",
        "outputId": "77606f28-922b-458d-e999-f4ed138b4306"
      },
      "execution_count": null,
      "outputs": [
        {
          "output_type": "stream",
          "name": "stdout",
          "text": [
            "1\n",
            "2\n",
            "3\n",
            "4\n",
            "5\n",
            "6\n",
            "7\n",
            "8\n",
            "9\n",
            "10\n",
            "\n"
          ]
        }
      ]
    },
    {
      "cell_type": "code",
      "source": [
        "#Question21- Write a Python program that reads a file and prints the number of occurrences of a specific word\n",
        "def count_word_occurrences(file_path, word_to_count):\n",
        "    try:\n",
        "        with open(file_path, 'r') as file:\n",
        "            content = file.read()\n",
        "            word_count = content.lower().split().count(word_to_count.lower())  # Case-insensitive\n",
        "            print(f\"The word '{word_to_count}' appears {word_count} times.\")\n",
        "    except FileNotFoundError:\n",
        "        print(f\"The file at {file_path} was not found.\")\n",
        "    except Exception as e:\n",
        "        print(f\"An error occurred: {e}\")\n",
        "\n",
        "# Example usage\n",
        "file_path = '/content/Q-21.txt'  # Replace with your file path\n",
        "word_to_count = 'python'  # Replace with the word you want to count\n",
        "count_word_occurrences(file_path, word_to_count)"
      ],
      "metadata": {
        "colab": {
          "base_uri": "https://localhost:8080/"
        },
        "id": "Suf2bM3ERh38",
        "outputId": "dee68837-aae3-4878-882b-82dd65a55190"
      },
      "execution_count": null,
      "outputs": [
        {
          "output_type": "stream",
          "name": "stdout",
          "text": [
            "The word 'python' appears 5 times.\n"
          ]
        }
      ]
    },
    {
      "cell_type": "code",
      "source": [
        "#Question22- How can you check if a file is empty before attempting to read its contents?\n",
        "def read_file_if_not_empty(file_path):\n",
        "    with open(file_path, 'r') as file:\n",
        "        content = file.read()\n",
        "        if not content:  # Checks if the content is empty\n",
        "            print(f\"The file '{file_path}' is empty.\")\n",
        "        else:\n",
        "            print(content)\n",
        "\n",
        "file_path = '/content/Q-21.txt'  # Replace with your file path\n",
        "read_file_if_not_empty(file_path)"
      ],
      "metadata": {
        "colab": {
          "base_uri": "https://localhost:8080/"
        },
        "id": "JmGiszxHSRb6",
        "outputId": "554b84e1-d30c-48c9-ba4e-fa8d64f29b81"
      },
      "execution_count": null,
      "outputs": [
        {
          "output_type": "stream",
          "name": "stdout",
          "text": [
            "Python\n",
            "Python\n",
            "Python\n",
            "Python\n",
            "Python\n"
          ]
        }
      ]
    },
    {
      "cell_type": "code",
      "source": [
        "#Question23- Write a Python program that writes to a log file when an error occurs during file handling\n",
        "import logging\n",
        "\n",
        "# Configure the logger to write to a log file\n",
        "logging.basicConfig(filename='error_log', level=logging.ERROR,\n",
        "                    format='%(asctime)s - %(levelname)s - %(message)s')\n",
        "\n",
        "def write_to_file(file_path, content):\n",
        "    try:\n",
        "        with open(file_path, 'w') as file:\n",
        "            file.write(content)\n",
        "        print(f\"Content successfully written to {file_path}\")\n",
        "    except Exception as e:\n",
        "        logging.error(f\"Error writing to file {file_path}: {e}\")\n",
        "        print(f\"An error occurred. Check 'error_log' for details.\")\n",
        "\n",
        "def read_from_file(file_path):\n",
        "    try:\n",
        "        with open(file_path, 'r') as file:\n",
        "            content = file.read()\n",
        "        print(f\"Content from {file_path}: \\n{content}\")\n",
        "    except Exception as e:\n",
        "        logging.error(f\"Error reading from file {file_path}: {e}\")\n",
        "        print(f\"An error occurred. Check 'error_log' for details.\")\n",
        "\n",
        "# Example usage\n",
        "file_path = '/content/numbers.txt'  # Replace with your file path\n",
        "content = \"This is an example content.\"  # Content to write\n",
        "\n",
        "# Writing to file\n",
        "write_to_file(file_path, content)\n",
        "\n",
        "# Reading from file\n",
        "read_from_file(file_path)"
      ],
      "metadata": {
        "colab": {
          "base_uri": "https://localhost:8080/"
        },
        "id": "D2NMDqWgSX06",
        "outputId": "1c504893-8e84-4606-e393-ae2b5bb6e8b4"
      },
      "execution_count": null,
      "outputs": [
        {
          "output_type": "stream",
          "name": "stdout",
          "text": [
            "Content successfully written to /content/numbers.txt\n",
            "Content from /content/numbers.txt: \n",
            "This is an example content.\n"
          ]
        }
      ]
    },
    {
      "cell_type": "markdown",
      "source": [
        "Question1.- What is the difference between interpreted and compiled languages?\n",
        "\n",
        "Answer- The primary difference between interpreted and compiled languages lies in how the code is executed by the computer. In essence, compiled languages produce standalone executables that run directly on the system, while interpreted languages are run through an intermediary interpreter."
      ],
      "metadata": {
        "id": "QGVVexUVSjAh"
      }
    },
    {
      "cell_type": "markdown",
      "source": [
        "Question2-What is exception handling in Python?\n",
        "\n",
        "Answer-Exception handling in Python is a mechanism that allows you to manage errors that might occur during the execution of a program. It helps to prevent the program from crashing and enables the developer to respond to different types of errors in a controlled way."
      ],
      "metadata": {
        "id": "zihpQv-jSl3R"
      }
    },
    {
      "cell_type": "markdown",
      "source": [
        "Question3- What is the purpose of the finally block in exception handling?\n",
        "\n",
        "Answer- The finally block in Python exception handling is used to define code that should always execute, regardless of whether an exception was raised or not. Its primary purpose is to perform cleanup operations, such as closing files, releasing resources, or disconnecting from a database."
      ],
      "metadata": {
        "id": "VJYKf0IwSq1h"
      }
    },
    {
      "cell_type": "markdown",
      "source": [
        "Question4-What is logging in Python?\n",
        "\n",
        "Answer- Logging in Python is a built-in module that allows you to track events that happen during program execution. It is used for debugging, monitoring, and recording errors or other significant occurrences in an application. Why Use Logging Instead of Print? 1) More Control: Logging allows different levels of messages (info, warning, error, etc.). 2) Persistence: Logs can be written to files for later analysis. 3) Custom Formatting: You can format logs with timestamps and other details. 4) Flexible Output: Logs can be sent to files, consoles, or external services. Python’s logging module is powerful, flexible, and a better alternative to print() for debugging and tracking application behavior in production."
      ],
      "metadata": {
        "id": "78jkCMmySuSh"
      }
    },
    {
      "cell_type": "markdown",
      "source": [
        "Question5- What is the significance of the del method in Python?\n",
        "\n",
        "Answer- The del method in Python is a special method known as the destructor. It is automatically called when an object is about to be destroyed (i.e., when there are no more references to it).\n",
        "\n",
        "Significance of del: 1) Resource Cleanup: Used to release resources like closing files, network connections, or database connections. 2) Automatic Execution: It runs when an object is deleted or goes out of scope. 3) Garbage Collection: Python’s garbage collector deletes objects when their reference count drops to zero."
      ],
      "metadata": {
        "id": "_IC7Gs7nSw8J"
      }
    },
    {
      "cell_type": "markdown",
      "source": [
        "Question6- What is the difference between import and from ... import in Python?\n",
        "\n",
        "Answer- The difference between import and from import in Python is:\n",
        "\n",
        "import imports an entire code library. from import imports a specific member or members of the library."
      ],
      "metadata": {
        "id": "7RyL113ISznp"
      }
    },
    {
      "cell_type": "markdown",
      "source": [
        "Question7-How can you handle multiple exceptions in Python?\n",
        "\n",
        "Answer- In Python, you can handle multiple exceptions in several ways: 1)Using Multiple except Blocks You can catch different exceptions with separate except blocks 2)Catching Multiple Exceptions in One except Block Use a tuple to handle multiple exceptions in a single except block 3)Using a Generic except Block Catch any exception (not recommended unless logging/debugging) 4)Using finally for Cleanup The finally block always executes, whether an exception occurs or not 5)Using 'else' for Code That Runs if No Exception Occurs"
      ],
      "metadata": {
        "id": "yYw_eZxJS2yo"
      }
    },
    {
      "cell_type": "markdown",
      "source": [
        "Question8- What is the purpose of the with statement when handling files in Python?\n",
        "\n",
        "Answer- Purpose of with when Handling Files 1) Automatic Resource Management: It automatically closes the file when the block exits. 2)Prevents Resource Leaks: It ensures that the file is closed properly, avoiding memory leaks or file locks. 3)Improves Code Readability: It makes the code more concise and readable."
      ],
      "metadata": {
        "id": "urIGTH98TBW4"
      }
    },
    {
      "cell_type": "markdown",
      "source": [
        "Question9- What is the difference between multithreading and multiprocessing?\n",
        "\n",
        "Answer- Both multithreading and multiprocessing are used to achieve parallel execution, but they differ in how they utilize system resources. Multiprocessing is a system that has more than one or two processors. In Multiprocessing, CPUs are added to increase the computing speed of the system. Because of Multiprocessing, There are many processes are executed simultaneously. Multithreading is a system in which multiple threads are created of a process for increasing the computing speed of the system. In multithreading, many threads of a process are executed simultaneously and process creation in multithreading is done according to economical. To summerise, Multiprocessing and multithreading are techniques used to improve computing efficiency. Multiprocessing uses multiple CPUs to do multiprocessing while multithreading uses multiple threads within a single process to increase performance of the system."
      ],
      "metadata": {
        "id": "FejL3krUTG2o"
      }
    },
    {
      "cell_type": "markdown",
      "source": [
        "Question10-What are the advantages of using logging in a program?\n",
        "\n",
        "Answer- Advantages of Using Logging in a Program 1) Debugging and Troubleshooting 2) Monitoring & Maintenance 3) Performance Analysis 4) Security & Compliance 5) Better Organization 6) Persistence & Storage 7) Configurable & Flexible"
      ],
      "metadata": {
        "id": "y_7TS5aYTJoD"
      }
    },
    {
      "cell_type": "markdown",
      "source": [
        "Q11- What is memory management in Python?\n",
        "\n",
        "Ans- Memory management in Python refers to how the Python interpreter handles memory allocation, storage, and deallocation for the objects used in a program. Python’s memory management system aims to make it easier for developers by automatically handling memory, so they don't have to manually allocate and free memory like in lower-level languages such as C"
      ],
      "metadata": {
        "id": "lUW-XMHCTMB4"
      }
    },
    {
      "cell_type": "markdown",
      "source": [
        "Q12. What are the basic steps involved in exception handling in Python?\n",
        "\n",
        "Ans- In Python, exception handling is used to catch and handle errors that occur during program execution, preventing the program from crashing unexpectedly. The basic steps involved in exception handling are:\n",
        "\n",
        "Try Block - Contains code that might raise an exception.\n",
        "\n",
        "Except Block - Catches and handles specific exceptions.\n",
        "\n",
        "Else Block - Runs if no exception is raised.\n",
        "\n",
        "Finally Block - Runs if no exception is raised."
      ],
      "metadata": {
        "id": "gOS8Vh9ITOFg"
      }
    },
    {
      "cell_type": "markdown",
      "source": [
        "13. Why is memory management important in Python?\n",
        "\n",
        "Ans- Memory management in Python ensures that your program uses memory efficiently, avoids memory leaks, and performs well even under resource constraints. By understanding how Python handles memory, you can optimize your programs, debug memory-related issues, and build more scalable and robust applications."
      ],
      "metadata": {
        "id": "yWxj95pLTQeI"
      }
    },
    {
      "cell_type": "markdown",
      "source": [
        "14. What is the role of try and except in exception handling? Ans- try: Contains the code that might raise an exception. except: Handles the exception if one is raised in the try block, allowing you to respond to errors without crashing your program.\n",
        "\n",
        "When an error occurs inside the try block, Python looks for an appropriate except block to handle that error. If the error type matches the exception specified in the except block, the code inside that block runs."
      ],
      "metadata": {
        "id": "yPIFCt0pTYuI"
      }
    },
    {
      "cell_type": "markdown",
      "source": [
        "15. How does Python's garbage collection system work?\n",
        "\n",
        "Python's garbage collection (GC) system is responsible for automatically managing memory by reclaiming memory that is no longer in use, which helps prevent memory leaks and improves the performance of the program. Python uses a combination of reference counting and cyclic garbage collection to manage memory\n",
        "\n",
        "Reference Counting: Python tracks how many references exist to each object. When the reference count reaches zero, the object is freed.\n",
        "\n",
        "Cyclic Garbage Collection: A garbage collector periodically checks for cyclic references (objects referencing each other) that can't be cleaned up by reference counting alone.\n",
        "\n",
        "Generational Approach: Python organizes objects into generations and runs garbage collection more frequently on younger objects.\n",
        "\n",
        "Manual Control: The gc module allows for manual triggering of garbage collection and provides some visibility into memory management."
      ],
      "metadata": {
        "id": "e95KBAGsTa5Q"
      }
    },
    {
      "cell_type": "markdown",
      "source": [
        "16. What is the purpose of the else block in exception handling?\n",
        "\n",
        "ans- The else block in Python's exception handling structure is an optional part that runs if no exceptions are raised in the try block. It allows you to define code that should execute only if the code inside the try block runs without any errors.\n",
        "\n",
        "The else block in exception handling is executed only if no exceptions are raised in the try block. It allows you to separate the logic for handling successful execution from error handling, improving the clarity and maintainability of the code."
      ],
      "metadata": {
        "id": "Rx2lngnPTdHA"
      }
    },
    {
      "cell_type": "markdown",
      "source": [
        "17. What are the common logging levels in Python?\n",
        "\n",
        "ans - common logging levels in Python, ordered from least severe to most severe:\n",
        "\n",
        "DEBUG -10-Detailed information for debugging (least severe) INFO-20-General information about program execution WARNING-30-Something unexpected, but the program is still running ERROR-40-A serious issue that impacts part of the program CRITICAL-50-A critical error causing system failure or shutdown\n",
        "\n",
        "Use DEBUG for development and debugging purposes. Use INFO for general runtime information. Use WARNING to log potential issues that don’t stop the program. Use ERROR for significant problems that need attention but don’t cause a crash. Use CRITICAL for severe issues that may require immediate attention or lead to failure."
      ],
      "metadata": {
        "id": "43-pX4EYTfWZ"
      }
    },
    {
      "cell_type": "markdown",
      "source": [
        "18. What is the difference between os.fork) and multiprocessing in Python?\n",
        "\n",
        "ans- In Python, both os.fork() and the multiprocessing module allow you to create parallel processes, but they have key differences in how they work and how you should use them in your programs.\n",
        "\n",
        "os.fork() is a low-level, Unix-specific function for creating child processes. It’s powerful but requires careful handling of memory and process management. multiprocessing is a high-level, cross-platform module that abstracts the complexity of process management and offers built-in tools for IPC and synchronization. In most Python programs, especially those that need to be cross-platform or involve complex process management, the multiprocessing module is generally recommended for ease of use and robustness."
      ],
      "metadata": {
        "id": "JwSbjt2AThk_"
      }
    },
    {
      "cell_type": "markdown",
      "source": [
        "19. What is the importance of closing a file in Python? ans Closing a file in Python is an essential step in file handling for several important reasons\n",
        "\n",
        "Releasing System Resources\n",
        "Ensuring Data is Written to the Disk\n",
        "Avoiding Data Corruption\n",
        "Improving Performance\n",
        "Preventing File Locking Issues"
      ],
      "metadata": {
        "id": "9IrObJVtTszn"
      }
    },
    {
      "cell_type": "markdown",
      "source": [
        "20. What is the difference between file.read and file.readline) in Python?\n",
        "\n",
        "Use file.read() when you want to read the entire file (or a specific portion of it) into memory at once.\n",
        "\n",
        "Use file.readline() when you want to read the file line-by-line, especially useful for large files or when you need to process data incrementally. For most cases where you process text files line by line, using file.readline() or iterating over the file directly (with for line in file) is more memory-efficient."
      ],
      "metadata": {
        "id": "a9cr3090TvZn"
      }
    },
    {
      "cell_type": "markdown",
      "source": [
        "21. What is the logging module in Python used for?\n",
        "\n",
        "The logging module in Python is used for generating log messages from your program, which can be extremely helpful for tracking the execution of your application, debugging, monitoring, and keeping a record of its activities. Logs allow you to track important events, errors, and behavior without requiring users to see or interact with them directly."
      ],
      "metadata": {
        "id": "a4XXs3aXTxcv"
      }
    },
    {
      "cell_type": "markdown",
      "source": [
        "22 What is the os module in Python used for in file handling?\n",
        "\n",
        "The os module in Python provides a way to interact with the operating system and perform various system-related tasks, including file handling. It offers a wide range of functionality for creating, removing, and modifying files and directories.\n",
        "\n",
        "In the context of file handling, the os module provides utility functions that allow you to perform tasks such as checking the existence of files, renaming files, changing the working directory, and more."
      ],
      "metadata": {
        "id": "oH4vIxghTzo3"
      }
    },
    {
      "cell_type": "markdown",
      "source": [
        "23. What are the challenges associated with memory management in Python?\n",
        "\n",
        "Memory management in Python is handled automatically through a combination of reference counting and garbage collection. However, this automated memory management comes with some challenges and limitations, particularly when dealing with large-scale applications, memory leaks, or performance bottlenecks.\n",
        "\n",
        "Memory Leaks -Memory leaks due to reference cycles and circular references.\n",
        "Global Interpreter Lock (GIL)- affecting multithreaded performance and memory resource utilization.\n",
        "Fragmentation of Memory-due to dynamic memory allocation and deallocation.\n",
        "Inefficient Memory - Usage with Large Data Structures - usage with large data structures and dynamic allocation.\n",
        "Automatic Garbage Collection Overhead- overhead, causing potential performance issues.\n",
        "Large Objects in Memory- taking up too much memory\n",
        "Lack of Control Over Memory Allocation - ack of low-level control over memory allocation and deallocation."
      ],
      "metadata": {
        "id": "pOc3F3IWT143"
      }
    },
    {
      "cell_type": "markdown",
      "source": [
        "24. How do you raise an exception manually in Python?\n",
        "\n",
        "In Python, you can raise an exception manually using the raise keyword. This allows you to generate an exception intentionally in your code, either for custom error handling or for signaling that something went wrong. Here's the general syntax for raising an exception"
      ],
      "metadata": {
        "id": "WySD4MKaT4CH"
      }
    },
    {
      "cell_type": "markdown",
      "source": [],
      "metadata": {
        "id": "xpLVfLT9T7A-"
      }
    }
  ]
}