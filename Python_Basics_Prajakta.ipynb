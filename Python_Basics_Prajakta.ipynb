{
  "nbformat": 4,
  "nbformat_minor": 0,
  "metadata": {
    "colab": {
      "provenance": []
    },
    "kernelspec": {
      "name": "python3",
      "display_name": "Python 3"
    },
    "language_info": {
      "name": "python"
    }
  },
  "cells": [
    {
      "cell_type": "code",
      "execution_count": null,
      "metadata": {
        "colab": {
          "base_uri": "https://localhost:8080/"
        },
        "id": "9VmaXzieQQlb",
        "outputId": "6502b80d-c17a-44f0-c46a-1f20bb9d1ece"
      },
      "outputs": [
        {
          "output_type": "stream",
          "name": "stdout",
          "text": [
            "Hello World\n"
          ]
        }
      ],
      "source": [
        "#1 Write a Python program to print \"Hello, World!\"\n",
        "#Answer 1\n",
        "print(\"Hello World\")"
      ]
    },
    {
      "cell_type": "code",
      "source": [
        "#2 Write a Python program that displays your name and age.\n",
        "#Answer 2\n",
        "name=input(\"Enter name\")\n",
        "age=input(\"Enter age\")\n",
        "print(\"Hi, my name is \" + name + \", and I am \" + age + \" years old.\")\n"
      ],
      "metadata": {
        "colab": {
          "base_uri": "https://localhost:8080/"
        },
        "id": "16uhwaYTYMFI",
        "outputId": "a7582168-e9b2-4a46-e6c7-fa27cd3388f6"
      },
      "execution_count": null,
      "outputs": [
        {
          "output_type": "stream",
          "name": "stdout",
          "text": [
            "Enter namePrajakta\n",
            "Enter age27\n",
            "Hi, my name is Prajakta, and I am 27 years old.\n"
          ]
        }
      ]
    },
    {
      "cell_type": "code",
      "source": [
        "#3 Write code to print all the pre-defined keywords in Python using the keyword library.\n",
        "#Answer 3\n",
        "help(\"keywords\")"
      ],
      "metadata": {
        "colab": {
          "base_uri": "https://localhost:8080/"
        },
        "id": "9Yq62sYJZ-5Y",
        "outputId": "f0f19fb8-eeb9-46e2-d7de-be92a50a85a4"
      },
      "execution_count": null,
      "outputs": [
        {
          "output_type": "stream",
          "name": "stdout",
          "text": [
            "\n",
            "Here is a list of the Python keywords.  Enter any keyword to get more help.\n",
            "\n",
            "False               class               from                or\n",
            "None                continue            global              pass\n",
            "True                def                 if                  raise\n",
            "and                 del                 import              return\n",
            "as                  elif                in                  try\n",
            "assert              else                is                  while\n",
            "async               except              lambda              with\n",
            "await               finally             nonlocal            yield\n",
            "break               for                 not                 \n",
            "\n"
          ]
        }
      ]
    },
    {
      "cell_type": "code",
      "source": [
        "#4 Write a program that checks if a given word is a Python keyword.\n",
        "#Answer4\n",
        " import keyword\n",
        "\n",
        "string = \"global\"\n",
        "print(string, \" :\", keyword.iskeyword(string))\n",
        "\n",
        "string = \"break\"\n",
        "print(string, \" :\", keyword.iskeyword(string))\n",
        "\n",
        "string = \"continue\"\n",
        "print(string, \" :\", keyword.iskeyword(string))\n",
        "\n",
        "string = \"test\"\n",
        "print(string, \" :\", keyword.iskeyword(string))\n",
        "\n",
        "string = \"python\"\n",
        "print(string, \" :\", keyword.iskeyword(string))\n",
        "\n",
        "string = \"Prajakta\"\n",
        "print(string, \" :\", keyword.iskeyword(string))"
      ],
      "metadata": {
        "colab": {
          "base_uri": "https://localhost:8080/"
        },
        "id": "rv6_5JkNeIeK",
        "outputId": "0bea2650-3681-4102-cf54-1404363c40d2"
      },
      "execution_count": null,
      "outputs": [
        {
          "output_type": "stream",
          "name": "stdout",
          "text": [
            "global  : True\n",
            "break  : True\n",
            "continue  : True\n",
            "test  : False\n",
            "python  : False\n",
            "Prajakta  : False\n"
          ]
        }
      ]
    },
    {
      "cell_type": "code",
      "source": [
        "#5 Create a list and tuple in Python, and demonstrate how attempting to change an element works differently for each.\n",
        "#Answeer 5\n",
        "#List example\n",
        "list_cont = [1, 2, 3, \"asifa\", 5, \"praj\", 7, 8, 9, 10]\n",
        "list_cont[3]\n",
        "list_cont[3] = \"Nidhi\"\n",
        "list_cont\n",
        "\n",
        "#tupel example\n",
        "\n",
        "tuple_cont = (4, 8, 9, \"soniya\", 7, \"ravi\", 10)\n",
        "tuple_cont [2] = \"shankar\"\n"
      ],
      "metadata": {
        "id": "zwUAV3Efecgj",
        "colab": {
          "base_uri": "https://localhost:8080/",
          "height": 176
        },
        "outputId": "12c58d0f-bdef-4552-87fe-c91422cb62b6"
      },
      "execution_count": null,
      "outputs": [
        {
          "output_type": "error",
          "ename": "TypeError",
          "evalue": "'tuple' object does not support item assignment",
          "traceback": [
            "\u001b[0;31m---------------------------------------------------------------------------\u001b[0m",
            "\u001b[0;31mTypeError\u001b[0m                                 Traceback (most recent call last)",
            "\u001b[0;32m<ipython-input-1-838a7057c882>\u001b[0m in \u001b[0;36m<cell line: 11>\u001b[0;34m()\u001b[0m\n\u001b[1;32m      9\u001b[0m \u001b[0;34m\u001b[0m\u001b[0m\n\u001b[1;32m     10\u001b[0m \u001b[0mtuple_cont\u001b[0m \u001b[0;34m=\u001b[0m \u001b[0;34m(\u001b[0m\u001b[0;36m4\u001b[0m\u001b[0;34m,\u001b[0m \u001b[0;36m8\u001b[0m\u001b[0;34m,\u001b[0m \u001b[0;36m9\u001b[0m\u001b[0;34m,\u001b[0m \u001b[0;34m\"soniya\"\u001b[0m\u001b[0;34m,\u001b[0m \u001b[0;36m7\u001b[0m\u001b[0;34m,\u001b[0m \u001b[0;34m\"ravi\"\u001b[0m\u001b[0;34m,\u001b[0m \u001b[0;36m10\u001b[0m\u001b[0;34m)\u001b[0m\u001b[0;34m\u001b[0m\u001b[0;34m\u001b[0m\u001b[0m\n\u001b[0;32m---> 11\u001b[0;31m \u001b[0mtuple_cont\u001b[0m \u001b[0;34m[\u001b[0m\u001b[0;36m2\u001b[0m\u001b[0;34m]\u001b[0m \u001b[0;34m=\u001b[0m \u001b[0;34m\"shankar\"\u001b[0m\u001b[0;34m\u001b[0m\u001b[0;34m\u001b[0m\u001b[0m\n\u001b[0m",
            "\u001b[0;31mTypeError\u001b[0m: 'tuple' object does not support item assignment"
          ]
        }
      ]
    },
    {
      "cell_type": "code",
      "source": [
        "# 6/7 Write a function to demonstrate the behavior of mutable and immutable arguments.\n",
        "#Answer 6/7\n",
        "#ans -6/7\n",
        "\n",
        "#tuples are immutable\n",
        "\n",
        "test = (0, 1, 2, 3)\n",
        "test[0] = 4\n",
        "print(test)\n",
        "# strings are immutable\n",
        "message = \"Welcome to Pune\"\n",
        "message[0] = 'p'\n",
        "print(message)"
      ],
      "metadata": {
        "colab": {
          "base_uri": "https://localhost:8080/",
          "height": 211
        },
        "id": "1IglglHaIiac",
        "outputId": "a7348f00-46eb-4284-c5db-ef4b5ba30b45"
      },
      "execution_count": null,
      "outputs": [
        {
          "output_type": "error",
          "ename": "TypeError",
          "evalue": "'tuple' object does not support item assignment",
          "traceback": [
            "\u001b[0;31m---------------------------------------------------------------------------\u001b[0m",
            "\u001b[0;31mTypeError\u001b[0m                                 Traceback (most recent call last)",
            "\u001b[0;32m<ipython-input-5-23cb06dde8c8>\u001b[0m in \u001b[0;36m<cell line: 7>\u001b[0;34m()\u001b[0m\n\u001b[1;32m      5\u001b[0m \u001b[0;34m\u001b[0m\u001b[0m\n\u001b[1;32m      6\u001b[0m \u001b[0mtest\u001b[0m \u001b[0;34m=\u001b[0m \u001b[0;34m(\u001b[0m\u001b[0;36m0\u001b[0m\u001b[0;34m,\u001b[0m \u001b[0;36m1\u001b[0m\u001b[0;34m,\u001b[0m \u001b[0;36m2\u001b[0m\u001b[0;34m,\u001b[0m \u001b[0;36m3\u001b[0m\u001b[0;34m)\u001b[0m\u001b[0;34m\u001b[0m\u001b[0;34m\u001b[0m\u001b[0m\n\u001b[0;32m----> 7\u001b[0;31m \u001b[0mtest\u001b[0m\u001b[0;34m[\u001b[0m\u001b[0;36m0\u001b[0m\u001b[0;34m]\u001b[0m \u001b[0;34m=\u001b[0m \u001b[0;36m4\u001b[0m\u001b[0;34m\u001b[0m\u001b[0;34m\u001b[0m\u001b[0m\n\u001b[0m\u001b[1;32m      8\u001b[0m \u001b[0mprint\u001b[0m\u001b[0;34m(\u001b[0m\u001b[0mtest\u001b[0m\u001b[0;34m)\u001b[0m\u001b[0;34m\u001b[0m\u001b[0;34m\u001b[0m\u001b[0m\n\u001b[1;32m      9\u001b[0m \u001b[0;31m# strings are immutable\u001b[0m\u001b[0;34m\u001b[0m\u001b[0;34m\u001b[0m\u001b[0m\n",
            "\u001b[0;31mTypeError\u001b[0m: 'tuple' object does not support item assignment"
          ]
        }
      ]
    },
    {
      "cell_type": "code",
      "source": [
        "# 6/7 Write a function to demonstrate the behavior of mutable and immutable arguments\n",
        "#Answer 6/7\n",
        "#list\n",
        "my_list = [1, 2, 3]\n",
        "my_list.append(4)\n",
        "print(my_list)\n",
        "my_list[0] = 5\n",
        "print(my_list)\n",
        "my_list.remove(3)\n",
        "print(my_list)\n",
        "my_list.insert(9,8)\n",
        "print(my_list)\n",
        "my_list.pop(0)\n",
        "print(my_list)\n",
        "\n",
        "#dectionary\n",
        "my_dict = {\"name\": \"Ram\", \"age\": 25}\n",
        "new_dict = my_dict\n",
        "new_dict[\"age\"] = 37\n",
        "print(my_dict)\n",
        "print(new_dict)"
      ],
      "metadata": {
        "colab": {
          "base_uri": "https://localhost:8080/"
        },
        "id": "2X00yuYIJ8wV",
        "outputId": "efe79819-4096-45d1-86fd-6c3c6e7b2ec2"
      },
      "execution_count": null,
      "outputs": [
        {
          "output_type": "stream",
          "name": "stdout",
          "text": [
            "[1, 2, 3, 4]\n",
            "[5, 2, 3, 4]\n",
            "[5, 2, 4]\n",
            "[5, 2, 4, 8]\n",
            "[2, 4, 8]\n",
            "{'name': 'Ram', 'age': 37}\n",
            "{'name': 'Ram', 'age': 37}\n"
          ]
        }
      ]
    },
    {
      "cell_type": "code",
      "source": [
        "#8 Write a program to demonstrate the use of logical operators\n",
        "#Answer 8\n",
        "#Logical operators are used to check whether an expression is True or False. They are used in decision-making. For example,\n",
        "a = 5\n",
        "b = 6\n",
        "\n",
        "print((a > 2) and (b >= 6))    # True\n",
        "\n",
        "a = 5\n",
        "b = 6\n",
        "\n",
        "print((a < 2) and (b >= 6))    # True\n",
        "\n",
        "a = 5\n",
        "b = 6\n",
        "\n",
        "print((a == 5) and (b == 6))    # True\n",
        "\n",
        "\n",
        "#AND,OR,NOT\n",
        "\n",
        "# logical AND\n",
        "print(True and True)     # True\n",
        "print(True and False)    # False\n",
        "print(False and True)    # False\n",
        "print(False and False)   # False\n",
        "print (10 and 10 )\n",
        "\n",
        "# logical OR\n",
        "print(True or False)     # True\n",
        "print(False or True)     # True\n",
        "print(True or True)      # True\n",
        "print(False or False)    # False\n",
        "\n",
        "# logical NOT\n",
        "print(not True)          # False\n",
        "print(not False)         # True"
      ],
      "metadata": {
        "colab": {
          "base_uri": "https://localhost:8080/"
        },
        "collapsed": true,
        "id": "fUVNYW5dnJwy",
        "outputId": "119c6381-14cd-480c-d124-15cf80290efe"
      },
      "execution_count": null,
      "outputs": [
        {
          "output_type": "stream",
          "name": "stdout",
          "text": [
            "True\n",
            "False\n",
            "True\n",
            "True\n",
            "False\n",
            "False\n",
            "False\n",
            "10\n",
            "True\n",
            "True\n",
            "True\n",
            "False\n",
            "False\n",
            "True\n"
          ]
        }
      ]
    },
    {
      "cell_type": "code",
      "source": [
        "#9 Write a Python program to convert user input from string to integer, float, and boolean types\n",
        "#ans 9\n",
        "#string to int\n",
        "string = \"100\"\n",
        "num = int(string)\n",
        "print(num)\n",
        "\n",
        "#string to float\n",
        "num = \"12.99\"\n",
        "print (type (num))\n",
        "num = 12.99\n",
        "print(num)\n",
        "print(type(num))\n",
        "\n",
        "#string to boolean\n",
        "\n",
        "east = \"Direction\"\n",
        "print(east)\n",
        "print(type(east))\n",
        "east = False\n",
        "print(east)\n",
        "print(type(east))"
      ],
      "metadata": {
        "colab": {
          "base_uri": "https://localhost:8080/"
        },
        "id": "lzejJNUSKgbz",
        "outputId": "37a5ccdc-d02d-4e6c-97fb-d1bb129225da"
      },
      "execution_count": null,
      "outputs": [
        {
          "output_type": "stream",
          "name": "stdout",
          "text": [
            "100\n",
            "<class 'str'>\n",
            "12.99\n",
            "<class 'float'>\n",
            "Direction\n",
            "<class 'str'>\n",
            "False\n",
            "<class 'bool'>\n"
          ]
        }
      ]
    },
    {
      "cell_type": "code",
      "source": [
        "# 10 Write code to demonstrate type casting with list elements.\n",
        "#ans 10\n",
        "mylist = [1,12,15.9,\"ajay\",\"asifa\",\"sunil\"]\n",
        "mylist[3] = \"RAAM\"\n",
        "mylist\n",
        "for i in mylist:\n",
        "  print(type(i))"
      ],
      "metadata": {
        "colab": {
          "base_uri": "https://localhost:8080/"
        },
        "id": "2SkAFo2LKzNE",
        "outputId": "d58ab6e1-06a3-4af4-cdec-b4411b07f493"
      },
      "execution_count": null,
      "outputs": [
        {
          "output_type": "stream",
          "name": "stdout",
          "text": [
            "<class 'int'>\n",
            "<class 'int'>\n",
            "<class 'float'>\n",
            "<class 'str'>\n",
            "<class 'str'>\n",
            "<class 'str'>\n"
          ]
        }
      ]
    },
    {
      "cell_type": "code",
      "source": [
        "# 11 Write a program that checks if a number is positive, negative, or zero\n",
        "#answer11\n",
        "num = float(input(\"Enter a number: \"))\n",
        "if num >= 7:\n",
        "   if num == 7:\n",
        "       print(\"Zero\")\n",
        "   else:\n",
        "       print(\"Positive number\")\n",
        "else:\n",
        "   print(\"Negative number\")\n"
      ],
      "metadata": {
        "colab": {
          "base_uri": "https://localhost:8080/"
        },
        "id": "PxAlcqhinuRx",
        "outputId": "5bdb99a4-f4da-4377-cb0e-866dd5eabbac"
      },
      "execution_count": null,
      "outputs": [
        {
          "output_type": "stream",
          "name": "stdout",
          "text": [
            "Enter a number: 3\n",
            "Negative number\n"
          ]
        }
      ]
    },
    {
      "cell_type": "code",
      "source": [
        "#12 Write a for loop to print numbers from 1 to 10\n",
        "#ans12\n",
        "for l in range(1, 11):\n",
        "    print(l, end=',')\n"
      ],
      "metadata": {
        "colab": {
          "base_uri": "https://localhost:8080/"
        },
        "id": "Hyay-k91n_Jx",
        "outputId": "c8c1397f-c216-4fe4-a536-6318f43c75a3"
      },
      "execution_count": null,
      "outputs": [
        {
          "output_type": "stream",
          "name": "stdout",
          "text": [
            "1,2,3,4,5,6,7,8,9,10,"
          ]
        }
      ]
    },
    {
      "cell_type": "code",
      "source": [
        "# 13 Write a Python program to find the sum of all even numbers between 1 and 50\n",
        "#Answer 13\n",
        "num = int(input('Enter a number: '))\n",
        "sum = 0\n",
        "i = 0\n",
        "while i <= num:\n",
        "    if i % 2 == 0:\n",
        "        print(i)\n",
        "        sum+=i\n",
        "    i+=1\n",
        "print(f\"Sum of all the even numbers is {sum}\")\n"
      ],
      "metadata": {
        "colab": {
          "base_uri": "https://localhost:8080/"
        },
        "collapsed": true,
        "id": "Q7Bizwctpbck",
        "outputId": "1777906a-d530-44c5-b436-7c541acf427f"
      },
      "execution_count": null,
      "outputs": [
        {
          "output_type": "stream",
          "name": "stdout",
          "text": [
            "Enter a number: 70\n",
            "0\n",
            "2\n",
            "4\n",
            "6\n",
            "8\n",
            "10\n",
            "12\n",
            "14\n",
            "16\n",
            "18\n",
            "20\n",
            "22\n",
            "24\n",
            "26\n",
            "28\n",
            "30\n",
            "32\n",
            "34\n",
            "36\n",
            "38\n",
            "40\n",
            "42\n",
            "44\n",
            "46\n",
            "48\n",
            "50\n",
            "52\n",
            "54\n",
            "56\n",
            "58\n",
            "60\n",
            "62\n",
            "64\n",
            "66\n",
            "68\n",
            "70\n",
            "Sum of all the even numbers is 1260\n"
          ]
        }
      ]
    },
    {
      "cell_type": "code",
      "source": [
        "#14 Write a program to reverse a string using a while loop\n",
        "#ans-14\n",
        "# Convert the string into a list to use it as a Drink\n",
        "# Initialize an empty string to hold the reversed result\n",
        "# Continue looping until the drink is empty\n",
        "# Remove the top element from the drink\n",
        "# and add it to the reversed string\n",
        "\n",
        "L= \"Limewater\"\n",
        "drink = list(L)\n",
        "rev = \"\"\n",
        "while drink:\n",
        "    rev += drink.pop()\n",
        "print(rev)"
      ],
      "metadata": {
        "colab": {
          "base_uri": "https://localhost:8080/"
        },
        "id": "AuD4PFKgLW_I",
        "outputId": "67b62505-6981-4a56-bd0f-823e30f71cf0"
      },
      "execution_count": null,
      "outputs": [
        {
          "output_type": "stream",
          "name": "stdout",
          "text": [
            "retawemiL\n"
          ]
        }
      ]
    },
    {
      "cell_type": "code",
      "source": [
        "#15 Write a Python program to calculate the factorial of a number provided by the user using a while loop.\n",
        "#ans15\n",
        "num = int(input(\"Enter a number: \"))\n",
        "factorial = 1\n",
        "i = 1\n",
        "while i <= num:\n",
        "    factorial = factorial * i\n",
        "    i = i + 1\n",
        "print(f\"The factorial of {num} is {factorial}\")\n"
      ],
      "metadata": {
        "colab": {
          "base_uri": "https://localhost:8080/"
        },
        "id": "PwdglO59ob5D",
        "outputId": "1202a3a0-77c9-49b2-a57f-ebb4b108ec2e"
      },
      "execution_count": null,
      "outputs": [
        {
          "output_type": "stream",
          "name": "stdout",
          "text": [
            "Enter a number: 6\n",
            "The factorial of 6 is 720\n"
          ]
        }
      ]
    },
    {
      "cell_type": "markdown",
      "source": [
        "**Question** 1-What is Python, and why is it popular?\n",
        "**\"Answer\"**- Python is a programming language , a formal language for creating instruction for a computer to follow ,  it is widely use in industry also it has lot of liabrieres also easy to learn, it's versality make it more popular.\n",
        "\n",
        "**Question 2**- What is an interpreter in Python?\n",
        "**\"Answer\"**- Interpretor in python - A Python interpreter is a computer program that takes the Python code and converts it into machine code and executes it. It reads the code and executes it line by line.\n",
        "\n",
        "\n",
        "**Question 3\"**- What are pre-defined keywords in Python?\n",
        "**\"Answer\"**- Below is a list of the Python keywords.\n",
        "False               class               from                or\n",
        "None                continue            global              pass\n",
        "True                def                 if                  raise\n",
        "and                 del                 import              return\n",
        "as                  elif                in                  try\n",
        "assert              else                is                  while\n",
        "async               except              lambda              with\n",
        "await               finally             nonlocal            yield\n",
        "break               for                 not\n",
        "\n",
        "Question 4-Can keywords be used as variable names?\n",
        "Answer- No keywords can not be used as variable name\n",
        "\n",
        "Question 5- What is mutability in Python?\n",
        "Answer- Mutability in Python refers to the ability to change the value or state of an object after it has been created.\n",
        "\n",
        "Question 6- Why are lists mutable, but tuples are immutable?\n",
        "Answer- list is mutable but tuple is immutable Because tuples use parentheses instead of square brackets, and the items in tuples cannot be modified but the items in lists can be modified\n",
        "\n",
        "Question7- What is the difference between \"==\" and \"is\" operators in Python?\n",
        "Answer- In Python, the main difference between the == and is operators is that \"==\" compares the equality of objects, while is compares the identity of objects:\n",
        "\n",
        "Question 8- What are logical operators in Python?\n",
        "Answer- The three types of logical operators in Python are:\n",
        " 1) And 2) Or 3) Not\n",
        "\n",
        "Question 9-What is type casting in Python?\n",
        "Answer- Type casting in Python is the process of converting a\n",
        "variable's data type from one type to another\n",
        "\n",
        "Question 10- What is the difference between implicit and explicit type casting?\n",
        "Answer- The main difference between implicit and explicit type casting in Python is who performs the conversion and how much control the programmer has over the process:\n",
        "Implicit type casting\n",
        "The Python interpreter automatically converts data types when performing operations. This method helps avoid data loss.\n",
        "Explicit type casting\n",
        "The programmer manually converts data types by calling the relevant function in the program code. This method is also called type casting.\n",
        "\n",
        "Question11- What is the purpose of conditional statements in Python?\n",
        "Answer- The purpose of a conditional statement in Python is to control the flow of a program by running or skipping blocks of code based on certain conditions. Conditional statements are a fundamental part of programming in Python and can make code more efficient and easier to read\n",
        "\n",
        "12- How does the elif statement work?\n",
        "Answer- The “elif” keyword in Python, stands for “else if”. It can be used in conditional statements to check for multiple conditions. For example, if the first condition is false, it moves on to the next “elif” statement to check if that condition is true.\n",
        "\n",
        "13- What is the difference between for and while loops?\n",
        "Answer- A for loop in Python repeats executing a code block from a sequence till certain number of times. Whereas a while loop in Python repeats execution of a code block till the condition is true which is not certain.\n",
        "\n",
        "14-Describe a scenario where a while loop is more suitable than a for loop.Answer- Scenario where while loop is more suitable thn for loop\n",
        "Use while loop when you don't know the number of iterations or need to repeat a block of code based on a condition.\n",
        "Use for loop when you know the number of iterations or need to iterate over a collection."
      ],
      "metadata": {
        "id": "heAdjuvpQUXj"
      }
    }
  ]
}