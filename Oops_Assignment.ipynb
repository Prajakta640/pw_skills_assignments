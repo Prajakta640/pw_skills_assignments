{
  "nbformat": 4,
  "nbformat_minor": 0,
  "metadata": {
    "colab": {
      "provenance": []
    },
    "kernelspec": {
      "name": "python3",
      "display_name": "Python 3"
    },
    "language_info": {
      "name": "python"
    }
  },
  "cells": [
    {
      "cell_type": "code",
      "source": [
        "#Question1- Create a parent class Animal with a method speak that prints a generic message. Create a child class Dog that overrides the speak method to print \"Bark!\"\n",
        "class Animal:\n",
        "    def speak(self):\n",
        "        print(\"The animal makes a sound.\")\n",
        "\n",
        "class Dog(Animal):\n",
        "    def speak(self):\n",
        "        print(\"Bark!\")\n",
        "\n",
        "# Example usage:\n",
        "animal = Animal()\n",
        "animal.speak()  # Output: The animal makes a sound.\n",
        "\n",
        "dog = Dog()\n",
        "dog.speak()  # Output: Bark!\n",
        "\n"
      ],
      "metadata": {
        "colab": {
          "base_uri": "https://localhost:8080/"
        },
        "id": "Nsky5zPDPkrG",
        "outputId": "9b832e4e-36c0-422c-b434-035fff364370"
      },
      "execution_count": null,
      "outputs": [
        {
          "output_type": "stream",
          "name": "stdout",
          "text": [
            "The animal makes a sound.\n",
            "Bark!\n"
          ]
        }
      ]
    },
    {
      "cell_type": "code",
      "source": [
        "#Question2-Write a program to create an abstract class Shape with a method area (. Derive classes Circle and Rectangle from it and implement the area method in both.\n",
        "from abc import ABC, abstractmethod\n",
        "import math\n",
        "\n",
        "# Abstract class\n",
        "class Shape(ABC):\n",
        "    @abstractmethod\n",
        "    def area(self):\n",
        "        pass\n",
        "\n",
        "# Circle class\n",
        "class Circle(Shape):\n",
        "    def __init__(self, radius):\n",
        "        self.radius = radius\n",
        "\n",
        "    def area(self):\n",
        "        return math.pi * self.radius ** 2\n",
        "\n",
        "# Rectangle class\n",
        "class Rectangle(Shape):\n",
        "    def __init__(self, length, width):\n",
        "        self.length = length\n",
        "        self.width = width\n",
        "\n",
        "    def area(self):\n",
        "        return self.length * self.width\n",
        "\n",
        "# Example usage\n",
        "circle = Circle(5)\n",
        "rectangle = Rectangle(4, 6)\n",
        "\n",
        "print(\"Circle area:\", circle.area())\n",
        "print(\"Rectangle area:\", rectangle.area())\n"
      ],
      "metadata": {
        "colab": {
          "base_uri": "https://localhost:8080/"
        },
        "id": "b81M3Y0pQDPu",
        "outputId": "f15e505a-a8ca-4351-e743-279a0b448f34"
      },
      "execution_count": null,
      "outputs": [
        {
          "output_type": "stream",
          "name": "stdout",
          "text": [
            "Circle area: 78.53981633974483\n",
            "Rectangle area: 24\n"
          ]
        }
      ]
    },
    {
      "cell_type": "code",
      "source": [
        "#Question3- Implement a multi-level inheritance scenario where a class Vehicle has an attribute type. Derive a class Car and further derive a class ElectricCar that adds a battery attribute.\n",
        "# Base class\n",
        "class Vehicle:\n",
        "    def __init__(self, vehicle_type):\n",
        "        self.vehicle_type = vehicle_type\n",
        "\n",
        "    def show_type(self):\n",
        "        print(f\"Vehicle Type: {self.vehicle_type}\")\n",
        "\n",
        "# Derived class\n",
        "class Car(Vehicle):\n",
        "    def __init__(self, brand, model, vehicle_type=\"Car\"):\n",
        "        super().__init__(vehicle_type)\n",
        "        self.brand = brand\n",
        "        self.model = model\n",
        "\n",
        "    def show_car_details(self):\n",
        "        print(f\"Car: {self.brand} {self.model}\")\n",
        "\n",
        "# Further derived class\n",
        "class ElectricCar(Car):\n",
        "    def __init__(self, brand, model, battery_capacity):\n",
        "        super().__init__(brand, model)\n",
        "        self.battery_capacity = battery_capacity\n",
        "\n",
        "    def show_electric_car_details(self):\n",
        "        self.show_type()\n",
        "        self.show_car_details()\n",
        "        print(f\"Battery Capacity: {self.battery_capacity} kWh\")\n",
        "\n",
        "# Example usage\n",
        "tesla = ElectricCar(\"Tesla\", \"Model S\", 100)\n",
        "tesla.show_electric_car_details()\n"
      ],
      "metadata": {
        "colab": {
          "base_uri": "https://localhost:8080/"
        },
        "id": "pjRLAbWnQsCM",
        "outputId": "94dfd612-83d6-4860-dbd8-8c976b62c6f6"
      },
      "execution_count": null,
      "outputs": [
        {
          "output_type": "stream",
          "name": "stdout",
          "text": [
            "Vehicle Type: Car\n",
            "Car: Tesla Model S\n",
            "Battery Capacity: 100 kWh\n"
          ]
        }
      ]
    },
    {
      "cell_type": "code",
      "source": [
        "#Question4- Implement a multi-level inheritance scenario where a class Vehicle has an attribute type. Derive a class Car and further derive a class ElectricCar that adds a battery attribute.\n",
        "# Base class\n",
        "class Vehicle:\n",
        "    def __init__(self, vehicle_type):\n",
        "        self.vehicle_type = vehicle_type\n",
        "\n",
        "    def show_type(self):\n",
        "        print(f\"Vehicle Type: {self.vehicle_type}\")\n",
        "\n",
        "# Intermediate class\n",
        "class Car(Vehicle):\n",
        "    def __init__(self, brand, model, vehicle_type=\"Car\"):\n",
        "        super().__init__(vehicle_type)\n",
        "        self.brand = brand\n",
        "        self.model = model\n",
        "\n",
        "    def show_car_details(self):\n",
        "        print(f\"Car: {self.brand} {self.model}\")\n",
        "\n",
        "# Derived class\n",
        "class ElectricCar(Car):\n",
        "    def __init__(self, brand, model, battery_capacity):\n",
        "        super().__init__(brand, model)\n",
        "        self.battery_capacity = battery_capacity\n",
        "\n",
        "    def show_electric_car_details(self):\n",
        "        self.show_type()\n",
        "        self.show_car_details()\n",
        "        print(f\"Battery Capacity: {self.battery_capacity} kWh\")\n",
        "\n",
        "# Example usage\n",
        "tesla = ElectricCar(\"Tesla\", \"Model S\", 100)\n",
        "tesla.show_electric_car_details()\n"
      ],
      "metadata": {
        "colab": {
          "base_uri": "https://localhost:8080/"
        },
        "id": "nM1vt022RCj5",
        "outputId": "29d1719e-d5a2-4e9e-d311-729728a791db"
      },
      "execution_count": null,
      "outputs": [
        {
          "output_type": "stream",
          "name": "stdout",
          "text": [
            "Vehicle Type: Car\n",
            "Car: Tesla Model S\n",
            "Battery Capacity: 100 kWh\n"
          ]
        }
      ]
    },
    {
      "cell_type": "code",
      "source": [
        "#Question5- Write a program to demonstrate encapsulation by creating a class BankAccount with private attributes balance and methods to deposit, withdraw, and check balance.\n",
        "class BankAccount:\n",
        "    def __init__(self, initial_balance=0):\n",
        "        self.__balance = initial_balance  # Private attribute\n",
        "\n",
        "    def deposit(self, amount):\n",
        "        if amount > 0:\n",
        "            self.__balance += amount\n",
        "            print(f\"Deposited: ${amount:.2f}\")\n",
        "        else:\n",
        "            print(\"Deposit amount must be positive.\")\n",
        "\n",
        "    def withdraw(self, amount):\n",
        "        if 0 < amount <= self.__balance:\n",
        "            self.__balance -= amount\n",
        "            print(f\"Withdrawn: ${amount:.2f}\")\n",
        "        else:\n",
        "            print(\"Invalid withdrawal amount or insufficient balance.\")\n",
        "\n",
        "    def check_balance(self):\n",
        "        print(f\"Current Balance: ${self.__balance:.2f}\")\n",
        "\n",
        "# Example usage\n",
        "account = BankAccount(100)  # Creating an account with initial balance\n",
        "account.deposit(50)         # Depositing money\n",
        "account.withdraw(30)        # Withdrawing money\n",
        "account.check_balance()     # Checking balance\n",
        "\n",
        "# Attempting to access private attribute directly (should fail)\n",
        "# print(account.__balance)  # Uncommenting this line will cause an AttributeError\n"
      ],
      "metadata": {
        "colab": {
          "base_uri": "https://localhost:8080/"
        },
        "id": "doxk5j3nRoy2",
        "outputId": "0ae221ad-69f5-43c8-acc8-b21fc6aaf8b2"
      },
      "execution_count": null,
      "outputs": [
        {
          "output_type": "stream",
          "name": "stdout",
          "text": [
            "Deposited: $50.00\n",
            "Withdrawn: $30.00\n",
            "Current Balance: $120.00\n"
          ]
        }
      ]
    },
    {
      "cell_type": "code",
      "source": [
        "#Question6- Demonstrate runtime polymorphism using a method play) in a base class Instrument. Derive classes Guitar and Piano that implement their own version of play.\n",
        "# Base class\n",
        "class Instrument:\n",
        "    def play(self):\n",
        "        print(\"The instrument is being played.\")\n",
        "\n",
        "# Derived class - Guitar\n",
        "class Guitar(Instrument):\n",
        "    def play(self):\n",
        "        print(\"Strumming the guitar!\")\n",
        "\n",
        "# Derived class - Piano\n",
        "class Piano(Instrument):\n",
        "    def play(self):\n",
        "        print(\"Playing the piano keys!\")\n",
        "\n",
        "# Function demonstrating runtime polymorphism\n",
        "def perform_play(instrument):\n",
        "    instrument.play()  # Calls the overridden method based on the object type\n",
        "\n",
        "# Example usage\n",
        "guitar = Guitar()\n",
        "piano = Piano()\n",
        "\n",
        "perform_play(guitar)  # Output: Strumming the guitar!\n",
        "perform_play(piano)   # Output: Playing the piano keys!\n",
        "\n",
        "\n",
        "\n"
      ],
      "metadata": {
        "colab": {
          "base_uri": "https://localhost:8080/"
        },
        "id": "ugqz8M_uR8Ob",
        "outputId": "b42eb054-4a00-4a16-c711-20579fbb08c3"
      },
      "execution_count": null,
      "outputs": [
        {
          "output_type": "stream",
          "name": "stdout",
          "text": [
            "Strumming the guitar!\n",
            "Playing the piano keys!\n"
          ]
        }
      ]
    },
    {
      "cell_type": "code",
      "source": [
        "#Question7- Create a class MathOperations with a class method add _numbers) to add two numbers and a static method subtract_numbers) to subtract two numbers.\n",
        "class MathOperations:\n",
        "\n",
        "    @classmethod\n",
        "    def add_numbers(cls, a, b):\n",
        "        return a + b\n",
        "\n",
        "    @staticmethod\n",
        "    def subtract_numbers(a, b):\n",
        "        return a - b\n",
        "\n",
        "# Example usage:\n",
        "result_add = MathOperations.add_numbers(5, 3)\n",
        "result_subtract = MathOperations.subtract_numbers(10, 4)\n",
        "\n",
        "print(f\"Addition Result: {result_add}\")        # Output: Addition Result: 8\n",
        "print(f\"Subtraction Result: {result_subtract}\") # Output: Subtraction Result: 6\n"
      ],
      "metadata": {
        "colab": {
          "base_uri": "https://localhost:8080/"
        },
        "id": "hX05KG-ISu5F",
        "outputId": "8a7e4550-bb63-443f-a118-6bc95308776b"
      },
      "execution_count": null,
      "outputs": [
        {
          "output_type": "stream",
          "name": "stdout",
          "text": [
            "Addition Result: 8\n",
            "Subtraction Result: 6\n"
          ]
        }
      ]
    },
    {
      "cell_type": "code",
      "source": [
        "#Question8- Implement a class Person with a class method to count the total number of persons created.\n",
        "class Person:\n",
        "    count = 0  # Class variable to track the number of persons created\n",
        "\n",
        "    def __init__(self, name):\n",
        "        self.name = name\n",
        "        Person.count += 1  # Increment count each time a new person is created\n",
        "\n",
        "    @classmethod\n",
        "    def get_person_count(cls):\n",
        "        return cls.count  # Return the total count of persons\n",
        "\n",
        "# Example usage\n",
        "p1 = Person(\"Praj\")\n",
        "p2 = Person(\"Kartik\")\n",
        "p3 = Person(\"Asifa\")\n",
        "\n",
        "print(\"Total persons created:\", Person.get_person_count())"
      ],
      "metadata": {
        "colab": {
          "base_uri": "https://localhost:8080/"
        },
        "id": "hEJN0Ip2TUb8",
        "outputId": "dda56a82-b3f3-4594-cd99-5dd294214a93"
      },
      "execution_count": null,
      "outputs": [
        {
          "output_type": "stream",
          "name": "stdout",
          "text": [
            "Total persons created: 3\n"
          ]
        }
      ]
    },
    {
      "cell_type": "code",
      "source": [
        "#Question9- Write a class Fraction with attributes numerator and denominator. Override the str method to display the fraction as \"numerator/ denominator\".\n",
        "class Fraction:\n",
        "    def __init__(self, numerator, denominator):\n",
        "        self.numerator = numerator\n",
        "        self.denominator = denominator\n",
        "\n",
        "    def __str__(self):\n",
        "        return f\"{self.numerator}/{self.denominator}\"\n",
        "\n",
        "# Example usage\n",
        "frac = Fraction(3, 4)\n",
        "print(\"Fraction:\", frac)"
      ],
      "metadata": {
        "colab": {
          "base_uri": "https://localhost:8080/"
        },
        "id": "oglDJnBeUCaC",
        "outputId": "d27a100e-dd9c-4e4f-ac60-af36332237c8"
      },
      "execution_count": null,
      "outputs": [
        {
          "output_type": "stream",
          "name": "stdout",
          "text": [
            "Fraction: 3/4\n"
          ]
        }
      ]
    },
    {
      "cell_type": "code",
      "source": [
        "#Question10- Demonstrate operator overloading by creating a class Vector and overriding the add method to add two vectors.\n",
        "class Vector:\n",
        "    def __init__(self, x, y):\n",
        "        self.x = x\n",
        "        self.y = y\n",
        "\n",
        "    def __add__(self, other):\n",
        "        return Vector(self.x + other.x, self.y + other.y)\n",
        "\n",
        "    def __str__(self):\n",
        "        return f\"({self.x}, {self.y})\"\n",
        "\n",
        "# Example usage\n",
        "v1 = Vector(1, 2)\n",
        "v2 = Vector(3, 4)\n",
        "v3 = v1 + v2\n",
        "print(\"Vector addition:\", v3)"
      ],
      "metadata": {
        "colab": {
          "base_uri": "https://localhost:8080/"
        },
        "id": "hRuYCAjtU1D0",
        "outputId": "c1f044ab-0018-4d14-8e1e-fd303e529e3c"
      },
      "execution_count": null,
      "outputs": [
        {
          "output_type": "stream",
          "name": "stdout",
          "text": [
            "Vector addition: (4, 6)\n"
          ]
        }
      ]
    },
    {
      "cell_type": "code",
      "source": [
        "#Question11- Create a class Person with attributes name and age. Add a method greet) that prints \"Hello, my name is {name} and I am {age} years old.\"\n",
        "class Person:\n",
        "    def __init__(self, name, age):\n",
        "        self.name = name\n",
        "        self.age = age\n",
        "\n",
        "    def greet(self):\n",
        "        print(f\"Hello, my name is {self.name} and I am {self.age} years old.\")\n",
        "\n",
        "# Example usage:\n",
        "p = Person(\"Prajakta\", 25)\n",
        "p.greet()\n"
      ],
      "metadata": {
        "colab": {
          "base_uri": "https://localhost:8080/"
        },
        "id": "A475GPKcXitX",
        "outputId": "7a45544f-30e8-4348-f4a7-29fb1de5f01f"
      },
      "execution_count": null,
      "outputs": [
        {
          "output_type": "stream",
          "name": "stdout",
          "text": [
            "Hello, my name is Prajakta and I am 25 years old.\n"
          ]
        }
      ]
    },
    {
      "cell_type": "code",
      "source": [
        "#Question12- Implement a class Student with attributes name and grades. Create a method average _grade ) to compute the average of the grades.\n",
        "class Student:\n",
        "    def __init__(self, name, grades):\n",
        "        self.name = name\n",
        "        self.grades = grades  # List of grades\n",
        "\n",
        "    def average_grade(self):\n",
        "        if not self.grades:\n",
        "            return 0  # Return 0 if no grades are present to avoid division by zero\n",
        "        return sum(self.grades) / len(self.grades)\n",
        "\n",
        "    def __str__(self):\n",
        "        return f\"Student: {self.name}, Average Grade: {self.average_grade():.2f}\"\n",
        "\n",
        "# Example usage\n",
        "student1 = Student(\"Kartik\", [85, 90, 78, 92])\n",
        "print(student1)"
      ],
      "metadata": {
        "colab": {
          "base_uri": "https://localhost:8080/"
        },
        "id": "5jaD89bCX1Mb",
        "outputId": "bcf93652-0610-48fd-fae7-ef63d329e398"
      },
      "execution_count": null,
      "outputs": [
        {
          "output_type": "stream",
          "name": "stdout",
          "text": [
            "Student: Kartik, Average Grade: 86.25\n"
          ]
        }
      ]
    },
    {
      "cell_type": "code",
      "source": [
        "#Question13- Create a class Rectangle with methods set _dimensions) to set the dimensions and area () to calculate the area.\n",
        "class Rectangle:\n",
        "    def __init__(self):\n",
        "        self.width = 0\n",
        "        self.height = 0\n",
        "\n",
        "    def set_dimensions(self, width, height):\n",
        "        self.width = width\n",
        "        self.height = height\n",
        "\n",
        "    def area(self):\n",
        "        return self.width * self.height\n",
        "\n",
        "    def __str__(self):\n",
        "        return f\"Rectangle: Width={self.width}, Height={self.height}, Area={self.area()}\"\n",
        "\n",
        "# Example usage\n",
        "rect = Rectangle()\n",
        "rect.set_dimensions(5, 10)\n",
        "print(rect)"
      ],
      "metadata": {
        "colab": {
          "base_uri": "https://localhost:8080/"
        },
        "id": "xBCq00QNYb8R",
        "outputId": "64fbc543-74bf-4151-ec12-f7e307041639"
      },
      "execution_count": null,
      "outputs": [
        {
          "output_type": "stream",
          "name": "stdout",
          "text": [
            "Rectangle: Width=5, Height=10, Area=50\n"
          ]
        }
      ]
    },
    {
      "cell_type": "code",
      "source": [
        "#Question14- Create a class Employee with a method calculate _salary) that computes the salary based on hours worked and hourly rate. Create a derived class Manager that adds a bonus to the salary.\n",
        "class Employee:\n",
        "    def __init__(self, name, hourly_rate):\n",
        "        self.name = name\n",
        "        self.hourly_rate = hourly_rate\n",
        "\n",
        "    def calculate_salary(self, hours_worked):\n",
        "        return self.hourly_rate * hours_worked\n",
        "\n",
        "    def __str__(self):\n",
        "        return f\"Employee: {self.name}, Hourly Rate: {self.hourly_rate}\"\n",
        "\n",
        "class Manager(Employee):\n",
        "    def __init__(self, name, hourly_rate, bonus):\n",
        "        super().__init__(name, hourly_rate)\n",
        "        self.bonus = bonus\n",
        "\n",
        "    def calculate_salary(self, hours_worked):\n",
        "        base_salary = super().calculate_salary(hours_worked)\n",
        "        return base_salary + self.bonus\n",
        "\n",
        "    def __str__(self):\n",
        "        return f\"Manager: {self.name}, Hourly Rate: {self.hourly_rate}, Bonus: {self.bonus}\"\n",
        "\n",
        "# Example usage\n",
        "emp = Employee(\"Prajakta S\", 20)\n",
        "print(emp)\n",
        "print(\"Salary:\", emp.calculate_salary(40))\n",
        "\n",
        "mgr = Manager(\"Asifa M\", 30, 500)\n",
        "print(mgr)\n",
        "print(\"Salary:\", mgr.calculate_salary(40))"
      ],
      "metadata": {
        "colab": {
          "base_uri": "https://localhost:8080/"
        },
        "id": "cmQsAIlBYwJU",
        "outputId": "9ed7091d-5e35-4e9d-d6f1-5b00a24cccb1"
      },
      "execution_count": null,
      "outputs": [
        {
          "output_type": "stream",
          "name": "stdout",
          "text": [
            "Employee: Prajakta S, Hourly Rate: 20\n",
            "Salary: 800\n",
            "Manager: Asifa M, Hourly Rate: 30, Bonus: 500\n",
            "Salary: 1700\n"
          ]
        }
      ]
    },
    {
      "cell_type": "code",
      "source": [
        "#Question15- Create a class Product with attributes name, price, and quantity. Implement a method total _price) that calculates the total price of the product.\n",
        "class Product:\n",
        "    def __init__(self, name, price, quantity):\n",
        "        self.name = name\n",
        "        self.price = price\n",
        "        self.quantity = quantity\n",
        "\n",
        "    def total_price(self):\n",
        "        return self.price * self.quantity\n",
        "\n",
        "    def __str__(self):\n",
        "        return f\"Product: {self.name}, Price: {self.price}, Quantity: {self.quantity}, Total Price: {self.total_price()}\"\n",
        "\n",
        "# Example usage\n",
        "product = Product(\"Laptop\", 10000, 3)\n",
        "print(product)"
      ],
      "metadata": {
        "colab": {
          "base_uri": "https://localhost:8080/"
        },
        "id": "Dap5YzwLZgji",
        "outputId": "00c47842-2e62-4c14-ea0a-4ba07892b40e"
      },
      "execution_count": null,
      "outputs": [
        {
          "output_type": "stream",
          "name": "stdout",
          "text": [
            "Product: Laptop, Price: 10000, Quantity: 3, Total Price: 30000\n"
          ]
        }
      ]
    },
    {
      "cell_type": "code",
      "source": [
        "#Question16- Create a class Animal with an abstract method sound). Create two derived classes Cow and Sheep that implement the sound) method\n",
        "from abc import ABC, abstractmethod\n",
        "\n",
        "class Animal(ABC):\n",
        "    @abstractmethod\n",
        "    def sound(self):\n",
        "        pass\n",
        "\n",
        "class Cow(Animal):\n",
        "    def sound(self):\n",
        "        return \"Moo\"\n",
        "\n",
        "class Sheep(Animal):\n",
        "    def sound(self):\n",
        "        return \"Baa\"\n",
        "\n",
        "# Example usage\n",
        "cow = Cow()\n",
        "sheep = Sheep()\n",
        "print(f\"Cow: {cow.sound()}\")\n",
        "print(f\"Sheep: {sheep.sound()}\")"
      ],
      "metadata": {
        "colab": {
          "base_uri": "https://localhost:8080/"
        },
        "id": "CFmfBOEYaRSl",
        "outputId": "e5270f1f-659b-425a-c325-07ac00fcb779"
      },
      "execution_count": null,
      "outputs": [
        {
          "output_type": "stream",
          "name": "stdout",
          "text": [
            "Cow: Moo\n",
            "Sheep: Baa\n"
          ]
        }
      ]
    },
    {
      "cell_type": "code",
      "source": [
        "#Question17- Create a class Book with attributes title, author, and year _published. Add a method get_book_info) that returns a formatted string with the book's details.\n",
        "class Book:\n",
        "    def __init__(self, title, author, year_published):\n",
        "        self.title = title\n",
        "        self.author = author\n",
        "        self.year_published = year_published\n",
        "\n",
        "    def get_book_info(self):\n",
        "        return f\"Title: {self.title}, Author: {self.author}, Year Published: {self.year_published}\"\n",
        "\n",
        "    def __str__(self):\n",
        "        return self.get_book_info()\n",
        "\n",
        "# Example usage\n",
        "book = Book(\"1984\", \"George Orwell\", 1949)\n",
        "print(book.get_book_info())"
      ],
      "metadata": {
        "colab": {
          "base_uri": "https://localhost:8080/"
        },
        "id": "tKYvMtRDajfs",
        "outputId": "8e2e56a4-685d-4a74-9802-e3f22368cd8f"
      },
      "execution_count": null,
      "outputs": [
        {
          "output_type": "stream",
          "name": "stdout",
          "text": [
            "Title: 1984, Author: George Orwell, Year Published: 1949\n"
          ]
        }
      ]
    },
    {
      "cell_type": "code",
      "source": [
        "#Question18- Create a class House with attributes address and price. Create a derived class Mansion that adds an attribute number_of_rooms.\n",
        "class House:\n",
        "    def __init__(self, address, price):\n",
        "        self.address = address\n",
        "        self.price = price\n",
        "\n",
        "    def __str__(self):\n",
        "        return f\"House Address: {self.address}, Price: ${self.price}\"\n",
        "\n",
        "class Mansion(House):\n",
        "    def __init__(self, address, price, number_of_rooms):\n",
        "        super().__init__(address, price)\n",
        "        self.number_of_rooms = number_of_rooms\n",
        "\n",
        "    def __str__(self):\n",
        "        return f\"Mansion Address: {self.address}, Price: ${self.price}, Rooms: {self.number_of_rooms}\"\n",
        "\n",
        "# Example usage\n",
        "house = House(\"123 Main St\", 250000)\n",
        "print(house)\n",
        "\n",
        "mansion = Mansion(\"456 Grand Ave\", 1500000, 10)\n",
        "print(mansion)"
      ],
      "metadata": {
        "colab": {
          "base_uri": "https://localhost:8080/"
        },
        "id": "b5BHmkU_az_A",
        "outputId": "0a96d423-d07c-4ad6-bbac-a87dab88ae0d"
      },
      "execution_count": null,
      "outputs": [
        {
          "output_type": "stream",
          "name": "stdout",
          "text": [
            "House Address: 123 Main St, Price: $250000\n",
            "Mansion Address: 456 Grand Ave, Price: $1500000, Rooms: 10\n"
          ]
        }
      ]
    },
    {
      "cell_type": "markdown",
      "source": [
        "#Question1- What is Object-Oriented Programming (OOP)?\n",
        "**Answer**- Object-Oriented Programming (OOP) is a programming paradigm based on the concept of objects, which are instances of classes. It is used to design software by modeling real-world entities as objects that contain both data (attributes/properties) and behavior (methods/functions).\n",
        "\n",
        "Key Principles of OOP:\n",
        "1)Encapsulation – Bundling data and methods that operate on the data within a class while restricting direct access to some details.\n",
        "2)Abstraction – Hiding complex implementation details and exposing only essential functionalities.\n",
        "3)Inheritance – Allowing a class (child) to inherit attributes and methods from another class (parent), promoting code reusability.\n",
        "4)Polymorphism – Allowing objects to take multiple forms, meaning a single function can work differently based on the object it is acting upon.\n"
      ],
      "metadata": {
        "id": "DxR5GMWebNOm"
      }
    },
    {
      "cell_type": "markdown",
      "source": [
        "#Question2- What is a class in OOP?\n",
        "**Answer**- In Object-Oriented Programming (OOP), a class is a blueprint or template for creating objects. It defines the attributes (variables) and behaviors (methods/functions) that the objects of that class will have.\n",
        "\n",
        "Key Features of a Class:\n",
        "1) Encapsulation – Groups related data and functions together.\n",
        "2) Abstraction – Hides implementation details from the user.\n",
        "3) Inheritance – Allows a new class to derive properties and behavior from an existing class.\n",
        "4) Polymorphism – Enables a single interface to represent different types.\n"
      ],
      "metadata": {
        "id": "aFHHkGRtb98m"
      }
    },
    {
      "cell_type": "markdown",
      "source": [
        "#Question3- What is an object in OOP?\n",
        "**Answer**- In Object-Oriented Programming (OOP), an object is an instance of a class. It represents a real-world entity with attributes (data) and behaviors (methods/functions) defined by its class.\n",
        "\n",
        "Key Characteristics of an Object:\n",
        "1) State – Represented by attributes (variables).\n",
        "2) Behavior – Defined by methods (functions inside the class).\n",
        "3) Identity – Each object has a unique identity in memory.\n"
      ],
      "metadata": {
        "id": "mLGce4CrcYjA"
      }
    },
    {
      "cell_type": "markdown",
      "source": [
        "#Question4- What is the difference between abstraction and encapsulation?\n",
        " **Answer**- 1) *Abstraction*- It is a feature of OOPs. It is used to hide the unnecessary information or data from the user but shows the essential data that is useful for the user. It can be achieved by using the interface and the abstract class. In interfaces, only the methods are exposed to the end-user.\n",
        " *Encapsulation*- It is also a feature of OOP. It is used to bind up the data into a single unit called class. It provides the mechanism which is known as data hiding. It is an important feature of OOPs. It prevents to access data members from the outside of the class. It is also necessary from the security point of view.\n",
        "\n"
      ],
      "metadata": {
        "id": "Tux9dXg9dKTR"
      }
    },
    {
      "cell_type": "markdown",
      "source": [
        "#Question5- What are dunder methods in Python?\n",
        "**Answer**- Dunder (Double Underscore) Methods in Python\n",
        "Dunder (short for \"Double UNDERscore\") methods, also known as magic methods or special methods, are built-in methods in Python that start and end with double underscores (__), like __init__, __str__, etc. These methods enable customization of object behavior for built-in operations.\n",
        "\n",
        "Common Dunder Methods and Their Uses\n",
        "1) **Object Initialization** (__init__)- Called when a new object is created (constructor)\n",
        "2) **String Representation** (__str__ & __repr__)\n",
        "**__str__** → Defines a user-friendly string representation.\n",
        "**__repr__** → Defines an unambiguous representation (for debugging)\n",
        "3) **Arithmetic Operators** (__add__, __sub__, etc.)\n",
        "Customizes how objects behave with arithmetic operators.\n",
        "4) **Comparison Operators** (__eq__, __lt__, etc.)\n",
        "Customizes object comparison behavior\n",
        "5)**Length & Indexing** (__len__, __getitem__, etc.)\n",
        "__len__ → Defines behavior for len(obj).\n",
        "__getitem__ → Allows objects to support indexing.\n",
        "\n",
        "Uses Dunder Methods\n",
        "✅ Enhances readability\n",
        "✅ Makes objects behave like built-in types\n",
        "✅ Enables operator overloading\n",
        "\n",
        "\n",
        "\n",
        "\n",
        "\n"
      ],
      "metadata": {
        "id": "XnWbI7eMeFJ5"
      }
    },
    {
      "cell_type": "markdown",
      "source": [
        "#Question6- Explain the concept of inheritance in OOP?\n",
        "**Answer**- Inheritance in Object-Oriented Programming (OOP)\n",
        "Inheritance is a fundamental OOP concept that allows a class (child/subclass) to inherit attributes and methods from another class (parent/superclass). It promotes code reuse, extensibility, and hierarchical relationships between classes.\n",
        "**Type Of Inheritance**\n",
        "1️⃣ Single Inheritance (One class inherits from another)\n",
        "2️⃣ Multiple Inheritance (One class inherits from multiple classes)\n",
        "3️⃣ Multilevel Inheritance (Inheritance chain)\n",
        "4️⃣ Hierarchical Inheritance (Multiple classes inherit from a single parent)\n",
        "5️⃣ Hybrid Inheritance (Combination of multiple types)\n",
        "\n",
        "**Advantages of Inheritance**\n",
        "✅ Code Reusability – Avoids duplication by reusing existing code.\n",
        "✅ Extensibility – Enhances existing functionality without modifying the parent class.\n",
        "✅ Maintainability – Easier to manage and update code.\n",
        "✅ Polymorphism – Allows different classes to use a common interface.\n",
        "\n",
        "\n"
      ],
      "metadata": {
        "id": "NzS14u2SgzHB"
      }
    },
    {
      "cell_type": "markdown",
      "source": [
        "#Question7- What is polymorphism in OOP?\n",
        "**Answer**- Polymorphism in Object-Oriented Programming (OOP)\n",
        "Polymorphism means \"many forms\" and allows objects of different classes to be treated as if they were objects of a common superclass. It enables one interface to be used for different data types and allows methods to be used interchangeably across multiple classes.\n",
        "**Types of Polymorphism**\n",
        "1️⃣ Method Overriding (Runtime Polymorphism)\n",
        "When a child class redefines a method from the parent class with the same name and parameters\n",
        "2️⃣ Method Overloading (Compile-time Polymorphism) [Not Native in Python]\n",
        "In some languages (like Java & C++), multiple methods in the same class can have the same name but different parameters.\n",
        "Python does not support method overloading natively, but it can be mimicked using default arguments.\n",
        "3️⃣ Operator Overloading\n",
        "Allows us to change the behavior of operators (+, -, *, etc.) for custom objects.\n",
        "4️⃣ Polymorphism with Functions and Objects\n",
        "A function can accept multiple types of objects that share a common method.\n",
        "\n",
        "**Key Benefits of Polymorphism**\n",
        "✅ Flexibility – Same function works for different object types.\n",
        "✅ Scalability – Code can be easily extended with new behaviors.\n",
        "✅ Code Reusability – Avoids duplicate code by using common interfaces.\n",
        "\n",
        "\n",
        "\n",
        "\n"
      ],
      "metadata": {
        "id": "jMD9Y7Fsh2zn"
      }
    },
    {
      "cell_type": "markdown",
      "source": [
        "#Question8- How is encapsulation achieved in Python?\n",
        "Encapsulation is the process of hiding the internal state of an object and requiring all interactions to be performed through an object’s methods. This approach:\n",
        "1)Provides better control over data.\n",
        "2)Prevents accidental modification of data.\n",
        "3)Promotes modular programming.\n",
        "\n",
        "How Encapsulation Works :\n",
        "1) Data Hiding: The variables (attributes) are kept private or protected, meaning they are not accessible directly from outside the class. Instead, they can only be accessed or modified through the methods.\n",
        "2) Access through Methods: Methods act as the interface through which external code interacts with the data stored in the variables. For instance, getters and setters are common methods used to retrieve and update the value of a private variable.\n",
        "3)Control and Security: By encapsulating the variables and only allowing their manipulation via methods, the class can enforce rules on how the variables are accessed or modified, thus maintaining control and security over the data.\n"
      ],
      "metadata": {
        "id": "Egfp9WMHi6uV"
      }
    },
    {
      "cell_type": "markdown",
      "source": [
        "#Question9- What is a constructor in Python?\n",
        "**Answer**- The constructor is a method that is called when an object is created. This method is defined in the class and can be used to initialize basic variables.\n",
        "If you create four objects, the class constructor is called four times. Every class has a constructor, but its not required to explicitly define it."
      ],
      "metadata": {
        "id": "AtJ04qmnjsr3"
      }
    },
    {
      "cell_type": "markdown",
      "source": [
        "#Question10- What are class and static methods in Python?\n",
        "**Answer**- Python provides two special types of methods:\n",
        "✅ Class Methods (@classmethod) → Operate on the class itself.\n",
        "✅ Static Methods (@staticmethod) → Behave like regular functions inside a class.\n",
        "\n",
        "1️⃣ Class Methods (@classmethod)\n",
        "Works with class variables rather than instance variables.\n",
        "Uses cls as the first parameter (instead of self).\n",
        "Can modify class-level data for all instances.\n",
        " **Use Case**: When you need to modify or access class-level data.\n",
        "\n",
        " 2️⃣ Static Methods (@staticmethod)\n",
        "Does not operate on instance or class variables.\n",
        "Behaves like a regular function inside a class.\n",
        "Doesn’t require self or cls.\n",
        " **Use Case**: When you need a utility function related to a class but don’t need to access class or instance data.\n",
        "\n",
        "\n",
        "\n"
      ],
      "metadata": {
        "id": "Iv---wxnkhnr"
      }
    },
    {
      "cell_type": "markdown",
      "source": [
        "#Question11- What is method overloading in Python?\n",
        "**Answer**- Method overloading in Python refers to defining multiple methods in a class with the same name but different arguments. However, Python does not support traditional method overloading like Java or C++ because Python functions can accept a variable number of arguments using default parameters, *args, and **kwargs.\n",
        "1)Simulated Method Overloading in Python:\n",
        "Instead of defining multiple methods with the same name, you can use conditional checks inside a single method.\n",
        "2)Using *args for Overloading: You can use *args to handle a variable number of arguments\n",
        "3)Using @singledispatch for True Overloading: Python's functools.singledispatch allows function overloading based on argument type.\n",
        "\n",
        "\n",
        "\n",
        "\n"
      ],
      "metadata": {
        "id": "4jWN1tHwlR8s"
      }
    },
    {
      "cell_type": "markdown",
      "source": [
        "#Question12- What is method overriding in OOP?\n",
        "**Answer**- Method overriding is a feature in Object-Oriented Programming (OOP) where a subclass provides a specific implementation of a method that is already defined in its superclass. The overridden method in the subclass must have the same name, parameters, and return type as the method in the superclass.\n",
        "\n",
        "Key Points About Method Overriding\n",
        "The method in the subclass must have the same name and signature as the one in the superclass.\n",
        "The method in the subclass replaces the method in the superclass.\n",
        "The super() function can be used to call the superclass method from the subclass.\n",
        "\n"
      ],
      "metadata": {
        "id": "OOE4RvfgtyYx"
      }
    },
    {
      "cell_type": "markdown",
      "source": [
        "#Question13- What is a property decorator in Python?\n",
        "**Answer**- A property decorator in Python (@property) is used to define getter, setter, and deleter methods in a class. It allows you to encapsulate instance variables and control access to them while still using attribute-like syntax.\n",
        "\n",
        "Uses of property decorator\n",
        "✅ Allows controlled access to instance attributes.\n",
        "✅ Helps implement encapsulation (data hiding).\n",
        "✅ Can validate or transform data when getting or setting attributes.\n",
        "✅ Provides a cleaner, more Pythonic way to use getters and setters."
      ],
      "metadata": {
        "id": "7zmwt6q93vh7"
      }
    },
    {
      "cell_type": "markdown",
      "source": [
        "Question14- Why is polymorphism important in OOP?\n",
        "**Answer**- Key Benefits of Polymorphism in OOP\n",
        "1️⃣ Code Reusability\n",
        "Polymorphism allows the same interface to be used for different data types, reducing code duplication.\n",
        "2️⃣ Flexibility & Extensibility\n",
        "Polymorphism makes it easy to extend the code by adding new classes without modifying existing ones.\n",
        "3️⃣ Method Overriding Supports Dynamic Behavior\n",
        "With method overriding, a subclass can provide its own version of a method.\n",
        "4️⃣ Interfaces & Abstraction\n",
        "Polymorphism works well with abstraction by enforcing a common interface.\n",
        "\n",
        "**Polymorphism is essential in OOP because it: **\n",
        "✅ Promotes code reusability\n",
        "✅ Enables dynamic method invocation\n",
        "✅ Improves flexibility and scalability\n",
        "✅ Supports abstraction and interfaces\n",
        "\n"
      ],
      "metadata": {
        "id": "uCbZjF0H2C2Y"
      }
    },
    {
      "cell_type": "markdown",
      "source": [
        "#Question15- What is an abstract class in Python?\n",
        "**Answer**- An abstract class in Python is a class that cannot be instantiated and serves as a blueprint for other classes. It contains one or more abstract methods, which must be implemented by subclasses.\n",
        "Python provides the ABC (Abstract Base Class) module to define abstract classes.\n",
        "Use Abstract Classes\n",
        "✅ Enforces a structure for subclasses.\n",
        "✅ Encourages code consistency by ensuring required methods exist in all subclasses.\n",
        "✅ Supports polymorphism, allowing different subclasses to be used interchangeably.\n",
        "✅ Prevents direct instantiation, making the class a true blueprint.\n",
        "\n",
        "\n"
      ],
      "metadata": {
        "id": "NmOTnhlI3zYi"
      }
    },
    {
      "cell_type": "markdown",
      "source": [
        "#Question16- What are the advantages of OOP?\n",
        "**Answer**- Object-Oriented Programming (OOP) offers several advantages, making it a widely used programming paradigm. Here are some key benefits:\n",
        "\n",
        "1. Encapsulation\n",
        "Data and methods are bundled together within objects, protecting data from unintended modification.\n",
        "Access control mechanisms (e.g., private, public, protected) enhance security.\n",
        "2. Abstraction\n",
        "Hides complex implementation details and exposes only necessary functionality.\n",
        "Simplifies code maintenance and improves readability.\n",
        "3. Reusability\n",
        "Code can be reused through inheritance, reducing redundancy and development time.\n",
        "Common functionalities can be inherited by multiple classes.\n",
        "4. Modularity\n",
        "OOP promotes modular code by structuring programs into independent objects.\n",
        "Easier to debug, maintain, and modify.\n",
        "5. Polymorphism\n",
        "Enables a single interface to be used for different data types.\n",
        "Allows method overloading and overriding, enhancing flexibility.\n",
        "6. Extensibility\n",
        "Easy to extend and modify existing code without affecting other parts of the system.\n",
        "New functionalities can be added with minimal effort.\n",
        "7. Scalability\n",
        "OOP allows large software projects to be managed efficiently.\n",
        "Supports complex applications with well-organized and maintainable code.\n",
        "8. Code Maintainability\n",
        "Well-structured OOP code is easier to maintain and update.\n",
        "Objects and classes provide a clear structure, reducing complexity.\n",
        "9. Better Productivity\n",
        "Encourages better software design practices.\n",
        "Speeds up development through reusable and modular code.\n",
        "10. Improved Collaboration\n",
        "Large teams can work on different objects or classes independently.\n",
        "Reduces conflicts in development.\n",
        "OOP is widely used in software development, including web applications, game development, and enterprise systems, due to these advantages."
      ],
      "metadata": {
        "id": "GEcSN3N_6Ddp"
      }
    },
    {
      "cell_type": "markdown",
      "source": [
        "#Question17- What is the difference between a class variable and an instance variable?\n",
        "**Answer**-\n",
        "*Instance Variable* -1)Instance variable are declared in a class, but outside a method, constructor or any block.\n",
        "2)Instance variables are created when an object is created with the use of the keyword 'new' and destroyed when the object is destroyed.\n",
        "3)Instance variables can be accessed directly by calling the variable name inside the class. However, within static methods (when instance variables are given accessibility), they should be called using the fully qualified name. ObjectReference.VariableName.\n",
        "4)Instance variables hold values that must be referenced by more than one method, constructor or block, or essential parts of an object's state that must be present throughout the class.\n",
        "\n",
        "*Class Variable* - 1)Class variables also known as static variables are declared with the static keyword in a class, but outside a method, constructor or a block.\n",
        "2) Static variables are created when the program starts and destroyed when the program stops.\n",
        "3)Static variables can be accessed by calling with the class name ClassName.VariableName.\n",
        "4)There would only be one copy of each class variable per class, regardless of how many objects are created from it.\n",
        "\n"
      ],
      "metadata": {
        "id": "9rWh1XWW7Loz"
      }
    },
    {
      "cell_type": "markdown",
      "source": [
        "#Question18- What is multiple inheritance in Python?\n",
        "**Answer**- Multiple inheritance in Python is a feature that allows a class to inherit from more than one parent class. This means a child class can access attributes and methods from multiple base classes.\n",
        "\n",
        "\n"
      ],
      "metadata": {
        "id": "TobjSQBACew0"
      }
    },
    {
      "cell_type": "markdown",
      "source": [
        "#Question19- Explain the purpose of \"_str' and 'repr_ methods in Python?\n",
        "\n",
        "**Answer**-  In Python, the __str__ and __repr__ methods are used to define how objects are represented as strings. They serve different purposes and are used in different contexts.\n",
        "\n",
        "The __str__ method is meant to provide a \"user-friendly\" or informal string representation of an object. It is called when you use str() or print() on an object. The goal of __str__ is to give a readable or human-readable string representation of the object.\n",
        "\n",
        "The __repr__ method is intended to provide a formal string representation of an object that could, ideally, be used to recreate the object. This is often more detailed and unambiguous than __str__. The goal of __repr__ is to return a string that gives a detailed, unambiguous, and potentially executable description of the object."
      ],
      "metadata": {
        "id": "q18VskM2S7qV"
      }
    },
    {
      "cell_type": "markdown",
      "source": [
        "#Question20- What is the significance of the 'super )' function in Python?**\n",
        "\n",
        "**Answer**-  The super() function in Python is a built-in function that allows you to call methods from a parent or base class. It is primarily used in the context of inheritance and helps facilitate the method resolution process, especially in multiple inheritance scenarios. Here's a deeper look into the significance of super():\n",
        "\n",
        "-1 Maintainability: When you use super(), it ensures that you don't hardcode references to parent classes, which makes your code easier to maintain and extend, especially if the inheritance hierarchy changes in the future.\n",
        "\n",
        "-2 Multiple Inheritance: In scenarios involving multiple inheritance, super() helps prevent method duplication, ensuring that each class in the inheritance chain is called only once, and in the correct order.\n",
        "\n",
        "-3 Cleaner Code: It allows you to write more concise and readable code by automatically handling the method calls to parent classes, especially when dealing with complex class hierarchies."
      ],
      "metadata": {
        "id": "syAXjc91TKqz"
      }
    },
    {
      "cell_type": "markdown",
      "source": [
        "#Question21- What is the significance of the _del_ method in Python?**\n",
        "\n",
        "**Answer**- The __del__ method in Python is a destructor method that is called when an object is about to be destroyed or garbage collected. Its primary purpose is to allow you to clean up or release any resources that the object may be holding, such as file handles, network connections, or database connections.\n",
        "\n",
        "The __del__ method in Python is used as a destructor to clean up when an object is about to be destroyed.\n",
        "It is most useful for releasing resources such as file handles or network connections.\n",
        "However, it's not always guaranteed to be called immediately or in the presence of circular references.\n",
        "For better resource management, it's recommended to use context managers and the with statement, which provide more control and reliability over cleanup.\n"
      ],
      "metadata": {
        "id": "Mm6RmdhdTYBV"
      }
    },
    {
      "cell_type": "markdown",
      "source": [
        "#Question22- What is the difference between @staticmethod and @classmethod in Python?**\n",
        "\n",
        "**Answer**-  In Python, both @staticmethod and @classmethod are decorators that are used to define methods within a class, but they serve different purposes and have distinct behaviors.\n",
        "\n",
        "Use @staticmethod when the method doesn’t need to access or modify the class or instance attributes. It's essentially a function that logically belongs to the class.\n",
        "Use @classmethod when the method needs access to the class (e.g., to modify class variables, create alternative constructors, etc.).\n",
        "\n",
        "The static_method does not need any access to the class or instance data.\n",
        "The class_method modifies the class-level data (class_variable).\n",
        "\n",
        "@staticmethod: Use when you want a function that logically belongs to the class but doesn’t need access to the class or instance.\n",
        "@classmethod: Use when you need access to the class itself, often for modifying class-level state or creating class-based factory methods."
      ],
      "metadata": {
        "id": "WcCno0Z3Trz4"
      }
    },
    {
      "cell_type": "markdown",
      "source": [
        "#Questin23- How does polymorphism work in Python with inheritance?**\n",
        "\n",
        "**Answer**- Polymorphism is a core concept in object-oriented programming (OOP), and in Python, it allows objects of different classes to be treated as objects of a common superclass. This is achieved through method overriding (or redefining methods in child classes) in the context of inheritance.\n",
        "\n",
        "In Python, polymorphism works by ensuring that the correct method (based on the actual object's class) is called when an object is treated as an instance of its parent class. This provides flexibility in how objects can interact with one another, even when they belong to different classes that share the same interface (e.g., methods with the same name)."
      ],
      "metadata": {
        "id": "BjwdrmkzTzzk"
      }
    },
    {
      "cell_type": "markdown",
      "source": [
        "Question24- What is method chaining in Python OOP?**\n",
        "\n",
        "**Answer**-  Method chaining in Python allows you to call multiple methods on the same object in a single line, which can improve code readability and conciseness. It works by ensuring each method returns the object itself (self), allowing for multiple operations on the same object without needing intermediate variables. This technique is particularly useful for building fluent interfaces and can help make your code more elegant and streamlined."
      ],
      "metadata": {
        "id": "ctz9FDnVT91L"
      }
    },
    {
      "cell_type": "markdown",
      "source": [
        "#Question25- What is the purpose of the -call_ method in Python?**\n",
        "**Answer**- The __call__ method in Python is a special method that allows an object to be called as if it were a function. This means that you can make instances of a class behave like functions by implementing the __call__ method in the class.\n",
        "\n",
        "The __call__ method in Python is a special method that makes an object callable like a function. By implementing __call__, you can define custom behavior for objects that are invoked with parentheses. This allows for flexible and elegant designs, especially when you want to encapsulate function-like behavior within an object while preserving its state and additional methods."
      ],
      "metadata": {
        "id": "Ue8rE7gHUI9F"
      }
    }
  ]
}